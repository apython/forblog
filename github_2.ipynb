{
 "metadata": {
  "name": "2_github"
 },
 "nbformat": 3,
 "nbformat_minor": 0,
 "worksheets": [
  {
   "cells": [
    {
     "cell_type": "heading",
     "level": 3,
     "metadata": {},
     "source": "\u0412\u0438\u0442\u0430\u043d\u0438\u0435 \u0432 \u043e\u0431\u043b\u0430\u043a\u0430\u0445... \u0443\u0441\u0442\u0430\u043d\u043e\u0432\u043a\u0430 GitHub ... \u0430 \u043a\u0430\u043a \u0440\u0430\u0431\u043e\u0442\u0430\u0442\u044c \u0441 \u043d\u0435\u0441\u043a\u043e\u043b\u044c\u043a\u0438\u0445 \u043a\u043e\u043c\u043f\u044c\u044e\u0442\u0435\u0440\u043e\u0432 \u0441 \u0440\u0430\u0437\u043d\u044b\u043c\u0438 OS?"
    },
    {
     "cell_type": "markdown",
     "metadata": {},
     "source": "\u042d\u0442\u043e \u0432\u0442\u043e\u0440\u043e\u0439 \u043f\u043e\u0441\u0442, \u043a\u043e\u0442\u043e\u0440\u044b\u0439 \u044f \u043f\u0438\u0448\u0443 \u0441 \u043a\u043e\u043c\u043f\u044c\u044e\u0442\u0435\u0440\u0430 \u0441 \u041eS Debian... \u0418\u043c\u0435\u043d\u043d\u043e \u044d\u0442\u043e\u0442 \u0434\u0438\u0441\u0442\u0440\u0438\u0431\u0443\u0442\u0438\u0432 \u044f \u0437\u0430\u043f\u0443\u0441\u0442\u0438\u043b \u0432\u0447\u0435\u0440\u0430 \u0441 USB Stick \u0438 \u043f\u0440\u043e\u0432\u0435\u0440\u0438\u043b \u0432 \u0440\u0435\u0436\u0438\u043c\u0435 persistence. \u0418\u043c\u0435\u043d\u043d\u043e IPython \u044f \u043f\u043e\u0441\u0442\u0430\u0432\u0438\u043b \u0441 \u043f\u043e\u043c\u043e\u0449\u044c\u044e apt get ... \u0438 \u0431\u044b\u043b \u0441\u0447\u0430\u0441\u0442\u043b\u0438\u0432, \u043a\u043e\u0433\u0434\u0430 \u043f\u043e\u0441\u043b\u0435 \u043f\u0435\u0440\u0435\u0437\u0430\u0433\u0440\u0443\u0437\u043a\u0438 \"ipython notebook\" \u043d\u0430\u0448\u0435\u043b\u0441\u044f \u0438 \u0437\u0430\u043f\u0443\u0441\u0442\u0438\u043b\u0441\u044f  (\u043e\u0431 \u044d\u0442\u043e\u043c \u043f\u0440\u0435\u0434\u044b\u0434\u0443\u0449\u0438\u0439 \u043f\u043e\u0441\u0442). \n\n\u041e\u0447\u0435\u0432\u0438\u0434\u043d\u043e, \u0447\u0442\u043e \u0440\u0430\u0434\u043e\u0432\u0430\u0442\u044c\u0441\u044f \u0440\u0430\u043d\u043e. \u041f\u043e\u043b\u0430\u0433\u0430\u044e, \u0447\u0442\u043e \u0433\u0435\u043d\u0438\u0439 \u0411\u0438\u043b\u043b\u0430 \u0413\u0435\u0439\u0442\u0441 \u0437\u0430\u043a\u043b\u044e\u0447\u0430\u0435\u0442\u0441\u044f \u0432 \u0442\u043e\u043c, \u0447\u0442\u043e \u043d\u0438\u043a\u0442\u043e \u043f\u043e\u043a\u0430 \u043d\u0435 \u043d\u0430\u0443\u0447\u0438\u043b\u0441\u044f \u043e\u0431\u0441\u043b\u0443\u0436\u0438\u0432\u0430\u0442\u044c \"\u0438\u043d\u0444\u0440\u0430\u0441\u0442\u0440\u0443\u043a\u0442\u0443\u0440\u0443\" (\u0441\u0442\u0435\u043a \u0440\u0430\u0431\u043e\u0447\u0438\u0445 \u043f\u0440\u043e\u0433\u0440\u0430\u043c\u043c), \u043b\u0443\u0447\u0448\u0435, \u0447\u0435\u043c Microsoft. \n\n\u0412\u043e\u0441\u043f\u043e\u043b\u044c\u0437\u0443\u0435\u043c\u0441\u044f \u0441\u0442\u0430\u043d\u0434\u0430\u0440\u0442\u0430\u043c\u0438 Microsoft \u0438 \u043e\u0446\u0435\u043d\u0438\u043c \u0440\u0438\u0441\u043a\u0438 (\u0434\u043b\u044f \u043d\u0430\u0447\u0430\u043b\u0430)."
    },
    {
     "cell_type": "heading",
     "level": 4,
     "metadata": {},
     "source": "\u0412\u0435\u0440\u043e\u044f\u0442\u043d\u043e\u0441\u0442\u044c \"\u043f\u043e\u043b\u043e\u043c\u043a\u0438\" \u0444\u043b\u0435\u0448\u043a\u0438"
    },
    {
     "cell_type": "markdown",
     "metadata": {},
     "source": "\u041a\u0430\u043a \u043e\u0431\u043d\u043e\u0432\u043b\u044f\u0435\u0442\u0441\u044f Windows \u0432\u0441\u0435 \u0437\u043d\u0430\u044e\u0442, \u043d\u043e \u043d\u0438\u043a\u0442\u043e \u043d\u0435 \u0437\u0430\u043c\u0435\u0447\u0430\u0435\u0442. \u042f \u0437\u0430\u043c\u0435\u0442\u0438\u043b, \u043d\u0430\u0441\u043a\u043e\u043b\u044c\u043a\u043e \u0445\u043e\u0440\u043e\u0448\u043e \u0443 \u043d\u0438\u0445 \u0432\u0441\u0435 \u043f\u0440\u043e\u0438\u0441\u0445\u043e\u0434\u0438\u0442, \u043f\u043e\u0441\u043b\u0435 \u0442\u043e\u0433\u043e, \u043a\u0430\u043a \u043d\u0430\u0447\u0430\u043b \u0438\u0441\u043f\u043e\u043b\u044c\u0437\u043e\u0432\u0430\u0442\u044c \u0438 \u043e\u0431\u043d\u043e\u0432\u043b\u044f\u0442\u044c Centos. \u041f\u0435\u0440\u0432\u044b\u0439 \u0441\u0431\u043e\u0439 \u0437\u0430\u0433\u0440\u0443\u0437\u043a\u0438 \u043f\u043e\u0441\u043b\u0435 \u043e\u0431\u043d\u043e\u0432\u043b\u0435\u043d\u0438\u044f - \"kernel panic\" \u0438\u0441\u043f\u0443\u0433\u0430\u043b \u0438 \u043e\u0442\u043d\u044f\u043b \u0434\u043e\u0432\u043e\u043b\u044c\u043d\u043e \u043c\u043d\u043e\u0433\u043e \u0432\u0440\u0435\u043c\u0435\u043d\u0438. \u0422\u043e\u0433\u0434\u0430 \u044f \u0440\u0435\u0448\u0438\u043b \u043d\u0435 \u0431\u0438\u0442\u044c\u0441\u044f \u0433\u043e\u043b\u043e\u0432\u043e\u0439 \u0432 \u0441\u0442\u0435\u043d\u0443, \u0430 \u043f\u0440\u043e\u0441\u0442\u043e \"\u043e\u0442\u043a\u0430\u0442\u0438\u0442\u044c\" \u0438 \u0440\u0430\u0431\u043e\u0442\u0430\u0442\u044c \u043d\u0430 \u0441\u0442\u0430\u0440\u043e\u0439 \u0437\u0430\u0433\u0440\u0443\u0437\u043a\u0435... \u041f\u0440\u0438 \u043e\u0447\u0435\u0440\u0435\u0434\u043d\u043e\u043c \u043e\u0431\u043d\u043e\u0432\u043b\u0435\u043d\u0438\u0438 \u0432\u0441\u0435 \u0431\u044b\u043b\u043e \u0438\u0441\u043f\u0440\u0430\u0432\u043b\u0435\u043d\u043e. \u042f \u0442\u043e\u0433\u0434\u0430 \u043f\u043e\u043d\u044f\u043b, \u043f\u043e\u0447\u0435\u043c\u0443 \u0432 \u043c\u0435\u043d\u044e \u0437\u0430\u0433\u0440\u0443\u0437\u043a\u0438 \u0432\u044b\u0441\u043a\u0430\u043a\u0438\u0432\u0430\u0435\u0442 \u0441\u0440\u0430\u0437\u0443 \u0441 \u0434\u0435\u0441\u044f\u0442\u043e\u043a \u043f\u0440\u0435\u0434\u044b\u0434\u0443\u0449\u0438\u0445 \u0432\u0430\u0440\u0438\u0430\u043d\u0442\u043e\u0432.\n\u041e\u0434\u043d\u0430\u043a\u043e, \u044d\u0442\u0430 \u043f\u0440\u043e\u0431\u043b\u0435\u043c\u0430 \u0441\u0442\u0430\u043b\u0430 \u0432\u043e\u0437\u043d\u0438\u043a\u0430\u0442\u044c \u0432\u0441\u0435 \u0447\u0430\u0449\u0435...\n\u0412 \u043a\u043e\u043d\u0446\u0435 \u043a\u043e\u043d\u0446\u043e\u0432 \u0438 \u043d\u043e\u0432\u044b\u0439 \u0440\u0435\u043b\u0438\u0437 Centos 6.3 \u043d\u0430\u0434\u043e \u0431\u044b\u043b\u043e \u043f\u0435\u0440\u0435\u0443\u0441\u0442\u0430\u043d\u0432\u043b\u0438\u0432\u0430\u0442\u044c, \u0438 \u0441\u0442\u0430\u0440\u044b\u0439 5.9.. \u0443\u0432\u0435\u0440\u0435\u043d\u043d\u043e \u0432\u044b\u0434\u0430\u0432\u0430\u043b \"kernel panic\" \u043f\u0440\u0438 \u043a\u0430\u0436\u0434\u043e\u043c \u043e\u0431\u043d\u043e\u0432\u043b\u0435\u043d\u0438\u0438...\n\n\u0410 \u043e\u043d\u043e \u043c\u043d\u0435 \u043d\u0430\u0434\u043e \u0431\u044b\u043b\u043e? \u0417\u0430\u043b\u0435\u0437\u0430\u0442\u044c \u0432 \u0433\u043b\u0443\u0431\u0438\u043d\u044b... \u041f\u043e \u0441\u0443\u0442\u0438, \u043f\u0435\u0440\u0443\u0441\u0442\u0430\u043d\u0430\u0432\u043b\u0438\u0432\u0430\u0442\u044c \u0432\u0442\u043e\u0440\u0443\u044e OS (\u043f\u0435\u0440\u0432\u0430\u044f - Windows). \u0414\u0430 \u0435\u0449\u0435 \u0438 \u0441\u043f\u0435\u0446\u0438\u0430\u043b\u0438\u0437\u0438\u0440\u043e\u0432\u0430\u043d\u043d\u044b\u0435 \u0434\u0438\u0441\u0442\u0440\u0438\u0431\u0443\u0442\u0438\u0432\u044b \u043d\u0430\u0448\u043b\u0438\u0441\u044c... \u0448\u0442\u0443\u043a 100 ... \u0418 \u0441\u0442\u0430\u043b \u044f \u043f\u043b\u043e\u0434\u0438\u0442\u044c \u0444\u043b\u0435\u0448\u043a\u0438... \u041f\u043e\u043f\u0440\u043e\u0431\u043e\u0432\u0430\u043b, \u0430\u043d\u0442\u0438\u0432\u0438\u0440\u0443\u0441\u044b,  SL-63 \u0440\u0430\u0431\u043e\u0442\u0430\u0435\u0442... \n\n\u041f\u043e\u043b\u0443\u0447\u0430\u0435\u0442\u0441\u044f \"\u0434\u0435\u0448\u0435\u0432\u043e \u0438 \u0441\u0435\u0440\u0434\u0438\u0442\u043e\" - \u044e\u0437\u0430\u0442\u044c \u0441\u0440\u0430\u0437\u0443 \u043d\u0435\u0441\u043a\u043e\u043b\u044c\u043a\u043e \u0441\u043f\u0435\u0446\u0438\u0430\u043b\u0438\u0437\u0438\u0440\u043e\u0432\u0430\u043d\u043d\u044b\u0445 \u0434\u0438\u0441\u0442\u0440\u0438\u0431\u0443\u0442\u0438\u0432\u043e\u0432... \u043f\u043e\u043a\u0430 \u043d\u0435 \u043d\u0430\u0448\u0435\u043b\u0441\u044f \"\u043b\u044e\u0431\u0438\u043c\u044b\u0439\"... \u041d\u043e \u043d\u0435 \u0442\u0443\u0442-\u0442\u043e \u0431\u044b\u043b\u043e, \u0434\u0438\u0441\u0442\u0440\u0438\u0431\u0443\u0442\u0438\u0432\u044b \u043f\u043e\u044f\u0432\u043b\u044f\u044e\u0442\u0441\u044f \u0440\u0430\u043d\u044c\u0448\u0435, \u0447\u0435\u043c \u0443\u0441\u043f\u0435\u0432\u0430\u0435\u0448\u044c \u0437\u0430\u0432\u0435\u0441\u0442\u0438 \"\u0441\u0435\u0440\u044c\u0435\u0437\u043d\u044b\u0435 \u043e\u0442\u043d\u043e\u0448\u0435\u043d\u0438\u044f\". \u0422\u0435\u043c \u0431\u043e\u043b\u0435\u0435, \u0447\u0442\u043e windows \u043f\u043e\u043a\u0430 \"\u0437\u0430\u043a\u0440\u044b\u0432\u0430\u0435\u0442\" \u0431\u043e\u043b\u044c\u0448\u0438\u043d\u0441\u0442\u0432\u043e \u0437\u0430\u0434\u0430\u0447... \n\n\u0422\u0430\u043a \u043f\u043e\u044f\u0432\u043b\u044f\u0435\u0442\u0441\u044f \u043c\u0435\u0447\u0442\u0430 \"bootable USB persistence\". \n\u0418 \u0432\u043e\u0442 \u043c\u0435\u0447\u0442\u0430 \u0440\u0435\u0430\u043b\u0438\u0437\u043e\u0432\u0430\u043d\u0430, \u0438 \u0442\u0435\u043f\u0435\u0440\u044c \u043d\u0430\u0434\u043e \u0441\u0442\u0430\u0432\u0438\u0442\u044c, \u0434\u043e\u0443\u0441\u0442\u0430\u043d\u0430\u0432\u043b\u0438\u0432\u0430\u0442\u044c... \u0438 \u043e\u0431\u043d\u043e\u0432\u043b\u044f\u0442\u044c \u0441\u043e\u0444\u0442 \u043d\u0435 \u043d\u0430 \u0432\u0438\u043d\u0447\u0435\u0441\u0442\u0435\u0440, \u0430 \u043d\u0430 \u0444\u043b\u0435\u0448\u043a\u0443."
    },
    {
     "cell_type": "markdown",
     "metadata": {},
     "source": "**USB \u043f\u0435\u0440\u0435\u0441\u0442\u0430\u043d\u0435\u0442 \u0437\u0430\u0433\u0440\u0443\u0436\u0430\u0442\u044c\u0441\u044f**,\n**\u041f\u0435\u0440\u0435\u0441\u0442\u0430\u043d\u0435\u0442 \u0440\u0430\u0431\u043e\u0442\u0430\u0442\u044c Persistence**,\n\n\u041f\u0435\u0440\u0435\u043f\u043e\u043b\u043d\u0435\u043d\u0438\u0435...,\n\u0414\u0430\u043d\u043d\u044b\u0435 \u043d\u0435 \u0438\u0434\u0435\u043d\u0442\u0438\u0444\u0438\u0446\u0438\u0440\u0443\u044e\u0442\u0441\u044f,\n\n\"\u0417\u0430\u0431\u044b\u0442\u043e\" \u043a\u0430\u043a\u0438\u0435 \u043f\u0430\u043a\u0435\u0442\u044b \u0443\u0441\u0442\u0430\u043d\u043e\u0432\u043b\u0435\u043d\u044b..."
    },
    {
     "cell_type": "markdown",
     "metadata": {},
     "source": "\u041e\u0447\u0435\u0432\u0438\u0434\u043d\u043e, \u0447\u0442\u043e \"\u043f\u043e\u043b\u043e\u043c\u0430\u0442\u044c \u0444\u043b\u0435\u0448\u043a\u0443\" \u043f\u0440\u043e\u0449\u0435 \u0432\u0441\u0435\u0433\u043e \u043c\u0435\u0445\u0430\u043d\u0438\u0447\u0435\u0441\u043a\u0438, \u0430 \u043f\u043e\u0442\u043e\u043c\u0443 \u043f\u0440\u043e\u0449\u0435 \u0432\u0441\u0435\u0433\u043e \u0431\u044b\u043b\u043e \u0431\u044b \u0433\u0434\u0435-\u0442\u043e \u0445\u0440\u0430\u043d\u0438\u0442\u044c \u0440\u0435\u0437\u0435\u0440\u0432\u043d\u0443\u044e \u043a\u043e\u043f\u0438\u044e..., \u043d\u043e \u0444\u043e\u0440\u043c\u0430\u0442\u0438\u0440\u043e\u0432\u0430\u043d\u0438\u0435 \u0440\u0430\u0437\u0434\u0435\u043b\u0430 persistence ext4, \u0435\u0433\u043e \u0435\u0449\u0435 \u0438 windows \u043d\u0435 \u0447\u0438\u0442\u0430\u0435\u0442.... "
    },
    {
     "cell_type": "markdown",
     "metadata": {},
     "source": "...\u041f\u043e\u043b\u0435\u0437\u043d\u043e\u0435 \u044d\u0442\u043e \u0434\u0435\u043b\u043e, \u0434\u0443\u043c\u0430\u0442\u044c \u043e \u0440\u0438\u0441\u043a\u0430\u0445... \u041d\u043e \u0441\u043f\u0435\u0448\u0438\u0442\u044c \u043d\u0435 \u0431\u0443\u0434\u0435\u043c. \u041e\u0431\u0440\u0430\u0442\u0438\u043c\u0441\u044f \u043a \u0442\u0435\u043a\u0443\u0449\u0438\u043c \u043f\u0440\u043e\u0431\u043b\u0435\u043c\u0430\u043c.\n\n\u041a\u0430\u043a \u043c\u043d\u0435 \u043e\u043f\u0443\u0431\u043b\u0438\u043a\u043e\u0430\u0442\u044c \u044d\u0442\u043e\u0442 \u043f\u043e\u0441\u0442 \u0432 \u0431\u043b\u043e\u0433\u0435? \u041a\u043e\u043d\u0432\u0435\u0440\u0442\u0435\u0440\u0430 \u043d\u0435 \u0432\u0438\u0434\u0430\u0442\u044c, \u043e\u0434\u043d\u0430\u043a\u043e... \u041f\u043e\u043a\u0430 \u044f\u0441\u043d\u043e, \u0447\u0442\u043e \u043c\u043e\u0436\u043d\u043e \u043f\u043e\u0440\u0442\u0440\u0438\u0442\u044c \u0432\u0440\u0435\u043c\u044f \u043d\u0430 \u0443\u0442\u0430\u043d\u043e\u0432\u043a\u0443 nbconvert \u043d\u0430 linux (\u043d\u0430\u043f\u043e\u043c\u043d\u044e, \u0447\u0442\u043e \u0432 \u043f\u043e\u0441\u043b\u0435\u0434\u043d\u0438\u0445 \u0432\u0435\u0440\u0441\u0438\u044f\u0445 \u044d\u0442\u0430 \u0443\u0442\u0438\u043b\u0438\u0442\u0430 \u0435\u0442\u0441\u0442\u044c, \u0430 \u0432 \"\u0443\u0441\u0442\u0430\u0440\u0435\u0432\u0448\u0438\u0445\" \u0435\u0435 \u043d\u0430\u0434\u043e \u0434\u043e\u0443\u0441\u0442\u0430\u043d\u0430\u0432\u043b\u0438\u0432\u0430\u0442\u044c... \u0417\u043d\u0430\u043a\u043e\u043c\u0430\u044f \u043a\u0430\u0440\u0442\u0438\u043d\u0430? \u0415\u0449\u0435 \u0431\u044b, \u044d\u0442\u043e \u0431\u0435\u0437\u0443\u0441\u043b\u043e\u0432\u043d\u043e \"\u043b\u0438\u0448\u043d\u044f\u044f \u0440\u0430\u0431\u043e\u0442\u0430\"...\n\u0430 \u043c\u043e\u0436\u043d\u043e \u043f\u0440\u044f\u043c\u043e \u0441\u0435\u0439\u0447\u0430\u0441 \u043d\u0430\u0447\u0430\u0442\u044c \u0443\u0441\u0442\u0430\u043d\u0430\u0432\u043b\u0438\u0432\u0430\u0442\u044c \u0438 \u043e\u0441\u0432\u0430\u0438\u0432\u0430\u0442\u044c GitHub... \u042d\u0442\u043e \u0440\u0430\u0431\u043e\u0442\u0430, \u043a\u043e\u0442\u0440\u0443\u044e \u043e\u0431\u044f\u0437\u0430\u0442\u0435\u043b\u044c\u043d\u043e \u043d\u0430\u0434\u043e \u0441\u0434\u0435\u043b\u0430\u0442\u044c... \n\n\u0422\u0430\u043a \u0447\u0442\u043e \u0437\u0430\u0439\u043c\u0435\u043c\u0441\u044f \u043e\u0441\u0432\u043e\u0435\u043d\u0438\u0435\u043c GitHub"
    },
    {
     "cell_type": "heading",
     "level": 4,
     "metadata": {},
     "source": "\u041d\u0430\u0441\u0442\u0440\u0430\u0438\u0432\u0430\u0435\u043c \u0440\u0430\u0431\u043e\u0442\u0443 \u0441 GitHub \u0432\u043e\u0442 \u043f\u043e \u044d\u0442\u0438\u043c \u0434\u0432\u0443\u043c \u0440\u0443\u043a\u043e\u0432\u043e\u0434\u0441\u0442\u0432\u0430\u043c:"
    },
    {
     "cell_type": "markdown",
     "metadata": {},
     "source": "\u041e\u0447\u0435\u0432\u0438\u0434\u043d\u043e, \u0447\u0442\u043e \u043a\u043e\u0434 \u043b\u0443\u0447\u0448\u0435 \u0434\u0435\u0440\u0436\u0430\u0442\u044c \u043d\u0430 GitHub [How To Install Git on Debian 7](https://www.digitalocean.com/community/articles/how-to-install-git-on-debian-7). \u0418 \u0435\u0441\u0442\u044c \u0440\u0435\u043a\u043e\u043c\u0435\u043d\u0434\u0430\u0446\u0438\u0438, \u043a\u0430\u043a \u044d\u0442\u043e \u043b\u0443\u0447\u0448\u0435 \u0434\u0435\u043b\u043a\u0442\u044c [How To Use Git Effectively](https://www.digitalocean.com/community/articles/how-to-use-git-effectively).\n\n\u041f\u0440\u043e\u0431\u043e\u0432\u0430\u0442\u044c \u043d\u0430\u0434\u043e \u0432 \u043b\u044e\u0431\u043e\u043c \u0441\u043b\u0443\u0447\u0430\u0435. \u041d\u043e \u043d\u0430\u0434\u043e \u0441\u043e\u0441\u0442\u0430\u0432\u0438\u0442\u044c \u043a\u0430\u043a\u043e\u0439-\u0442\u043e \u043f\u043b\u0430\u043d \u043e\u0431\u0443\u0447\u0435\u043d\u0438\u044f... \u041d\u043e \u043a\u0430\u043a? \u0421\u0430\u043c\u044b\u043c \u0435\u0441\u0442\u0435\u0441\u0442\u0432\u0435\u043d\u043d\u044b\u043c \u043f\u0440\u0435\u0434\u0441\u0442\u0430\u0432\u043b\u044f\u0435\u0442\u0441\u044f \u043f\u043e\u0434\u0445\u043e\u0434 AGILE. \u0415\u0441\u0442\u044c \u043d\u0435\u043a\u0430\u044f \"\u0433\u0435\u043d\u0435\u0440\u0430\u043b\u044c\u043d\u0430\u044f \u043b\u0438\u043d\u0438\u044f\", \u0432\u044b\u0441\u043a\u0430\u043a\u0438\u0432\u0430\u044e\u0449\u0438\u0435 \u0432\u043e\u043f\u0440\u043e\u0441\u044b \u0437\u0430\u043f\u0438\u0441\u044b\u0432\u0430\u044e\u0442\u0441\u044f \u043d\u0430 \u0441\u0442\u0435\u043d\u043a\u0443... \u041f\u043e\u0436\u0430\u043b\u0443\u0439, \u044d\u0442\u043e \u043d\u0430\u0434\u043e \u043f\u0440\u043e\u0432\u0435\u0440\u0438\u0442\u044c... "
    },
    {
     "cell_type": "heading",
     "level": 4,
     "metadata": {},
     "source": "\u041f\u0440\u043e\u0441\u0442\u043e \u0443\u0441\u0442\u0430\u043d\u0430\u0432\u043b\u0438\u0432\u0430\u0435\u043c  Git on Debian 7"
    },
    {
     "cell_type": "code",
     "collapsed": false,
     "input": "root@kali:~# sudo apt-get install git-core\nReading package lists... Done\nBuilding dependency tree       \nReading state information... Done\nThe following NEW packages will be installed:\n  git-core\n0 upgraded, 1 newly installed, 0 to remove and 151 not upgraded.\nNeed to get 1,336 B of archives.\nAfter this operation, 21.5 kB of additional disk space will be used.\nGet:1 http://http.kali.org/kali/ kali/main git-core all 1:1.7.10.4-1+wheezy1 [1,336 B]\nFetched 1,336 B in 0s (1,713 B/s)     \nSelecting previously unselected package git-core.\n(Reading database ... 355615 files and directories currently installed.)\nUnpacking git-core (from .../git-core_1%3a1.7.10.4-1+wheezy1_all.deb) ...\nSetting up git-core (1:1.7.10.4-1+wheezy1) ...\nroot@kali:~# \n",
     "language": "python",
     "metadata": {},
     "outputs": []
    },
    {
     "cell_type": "markdown",
     "metadata": {},
     "source": "\u041f\u043e\u0441\u043b\u0435 \u0443\u0441\u0442\u0430\u043d\u043e\u0432\u043a\u0438 \u043d\u0435 \u0433\u0440\u0435\u0445 \u043f\u0440\u043e\u0432\u0435\u0440\u0438\u0442\u044c, \u0447\u0442\u043e \u043c\u044b \u0443\u0441\u0442\u0430\u043d\u043e\u0432\u0438\u043b\u0438:"
    },
    {
     "cell_type": "code",
     "collapsed": false,
     "input": "!git help",
     "language": "python",
     "metadata": {},
     "outputs": [
      {
       "output_type": "stream",
       "stream": "stdout",
       "text": "usage: git [--version] [--exec-path[=<path>]] [--html-path] [--man-path] [--info-path]\r\n           [-p|--paginate|--no-pager] [--no-replace-objects] [--bare]\r\n           [--git-dir=<path>] [--work-tree=<path>] [--namespace=<name>]\r\n           [-c name=value] [--help]\r\n           <command> [<args>]\r\n\r\nThe most commonly used git commands are:\r\n   add        Add file contents to the index\r\n   bisect     Find by binary search the change that introduced a bug\r\n   branch     List, create, or delete branches\r\n   checkout   Checkout a branch or paths to the working tree\r\n   clone      Clone a repository into a new directory\r\n   commit     Record changes to the repository\r\n   diff       Show changes between commits, commit and working tree, etc\r\n   fetch      Download objects and refs from another repository\r\n   grep       Print lines matching a pattern\r\n   init       Create an empty git repository or reinitialize an existing one\r\n   log        Show commit logs\r\n   merge      Join two or more development histories together\r\n   mv         Move or rename a file, a directory, or a symlink\r\n   pull       Fetch from and merge with another repository or a local branch\r\n   push       Update remote refs along with associated objects\r\n   rebase     Forward-port local commits to the updated upstream head\r\n   reset      Reset current HEAD to the specified state\r\n   rm         Remove files from the working tree and from the index\r\n   show       Show various types of objects\r\n   status     Show the working tree status\r\n   tag        Create, list, delete or verify a tag object signed with GPG\r\n\r\nSee 'git help <command>' for more information on a specific command.\r\n"
      }
     ],
     "prompt_number": 1
    },
    {
     "cell_type": "markdown",
     "metadata": {},
     "source": "\u0422\u0435\u043f\u0435\u0440\u044c \u043f\u043e\u0432\u0442\u043e\u0440\u0438\u043c \u0432\u0441\u0435, \u043a\u0430\u043a \u0437\u0434\u0435\u0441\u044c [How To Use Git Effectively](https://www.digitalocean.com/community/articles/how-to-use-git-effectively)"
    },
    {
     "cell_type": "code",
     "collapsed": false,
     "input": "# The first thing we need to do is create our workspace environment: \n!mkdir -p ~/git/testing ; cd ~/git/testing",
     "language": "python",
     "metadata": {},
     "outputs": [],
     "prompt_number": 3
    },
    {
     "cell_type": "markdown",
     "metadata": {},
     "source": "\u041f\u0435\u0440\u0432\u0430\u044f \u0447\u0430\u0441\u0442\u044c \u043a\u043e\u043c\u0430\u043d\u0434\u044b \u0431\u044b\u043b\u0430 \u0432\u044b\u043f\u043e\u043b\u043d\u0435\u043d\u0430, \u0431\u0438\u0431\u043b\u0438\u043e\u0442\u0435\u043a\u0430 \u0431\u044b\u043b\u0430 \u0441\u0434\u0435\u043b\u0430\u043d\u0430, \u043d\u043e \u043f\u0435\u0440\u0435\u0445\u043e\u0434\u0430 \u0432 \u043d\u0435\u0435 \u043d\u0435 \u0431\u044b\u043b\u043e... \u0418 \u043f\u043e\u0442\u043e\u043c \u044f \u043f\u043e\u043f\u044b\u0442\u0430\u043b\u0441\u044f \u0441\u043c\u0435\u043d\u0438\u0442\u044c \u0434\u0438\u0440\u0435\u043a\u0442\u043e\u0440\u0438\u044e - \u043d\u0438\u0447\u0435\u0433\u043e \u043d\u0435 \u043f\u043e\u043b\u0443\u0447\u0438\u043b\u043e\u0441\u044c... \u041f\u043e-\u0432\u0438\u0434\u0438\u043c\u043e\u043c\u0443, \u0440\u0430\u0431\u043e\u0442\u0430\u0435\u0442 \u0437\u0430\u0449\u0438\u0442\u0430... "
    },
    {
     "cell_type": "code",
     "collapsed": false,
     "input": "!pwd",
     "language": "python",
     "metadata": {},
     "outputs": [
      {
       "output_type": "stream",
       "stream": "stdout",
       "text": "/home/root/ipython\r\n"
      }
     ],
     "prompt_number": 4
    },
    {
     "cell_type": "code",
     "collapsed": false,
     "input": "!cd ~/git/testing",
     "language": "python",
     "metadata": {},
     "outputs": [],
     "prompt_number": 5
    },
    {
     "cell_type": "code",
     "collapsed": false,
     "input": "!ls",
     "language": "python",
     "metadata": {},
     "outputs": [
      {
       "output_type": "stream",
       "stream": "stdout",
       "text": "2_github.ipynb\tfirst_kali_debian.ipynb\r\n"
      }
     ],
     "prompt_number": 7
    },
    {
     "cell_type": "markdown",
     "metadata": {},
     "source": "\u041f\u043e\u0441\u043a\u043e\u043b\u044c\u043a\u0443 \u0434\u0438\u0440\u0435\u043a\u0442\u043e\u0440\u0438\u044e \u043f\u043e\u043c\u0435\u043d\u044f\u0442\u044c \u043d\u0435 \u0443\u0434\u0430\u043b\u043e\u0441\u044c, \u0442\u043e \u043f\u0440\u0438\u0448\u043b\u043e\u0441\u044c \u0434\u0430\u043b\u044c\u043d\u0435\u0439\u0448\u0438\u0435 \u043a\u043e\u043c\u0430\u043d\u0434\u044b \u0432\u044b\u043f\u043e\u043b\u043d\u044f\u0442\u044c \u0438\u0437 \u043a\u043e\u043d\u0441\u043e\u043b\u0438:"
    },
    {
     "cell_type": "code",
     "collapsed": false,
     "input": "# We are going to create a test file to use in our repository: \n!touch file",
     "language": "python",
     "metadata": {},
     "outputs": []
    },
    {
     "cell_type": "markdown",
     "metadata": {},
     "source": "\u0417\u0430\u0431\u044b\u043b \u044f \u043f\u0440\u043e touch \u042d\u0442\u0430 \u043a\u043e\u043c\u0430\u043d\u0434\u0430 \u0441\u043e\u0437\u0434\u0430\u0435\u0442 \u043f\u0443\u0441\u0442\u043e\u0439 \u0444\u0430\u0439\u043b. \u0412 /root/git/testing \u043f\u043e\u044f\u0432\u0438\u043b\u0441\u044f \u0444\u0430\u0439\u043b file (\u0442\u0435\u043a\u0441\u0442\u043e\u0432\u044b\u0439 \u0431\u0435\u0437 \u0440\u0430\u0441\u0448\u0438\u0440\u0435\u043d\u0438\u044f... \u0435\u0441\u0442\u0435\u0441\u0442\u0432\u0435\u043d\u043d\u043e)"
    },
    {
     "cell_type": "markdown",
     "metadata": {},
     "source": "\u0418\u0442\u0430\u043a, \u043c\u044b  \u0441\u043e\u0437\u0434\u0430\u043b\u0438 \u0434\u0438\u0440\u0435\u043a\u0442\u043e\u0440\u0438\u044e \u043f\u0440\u043e\u0435\u043a\u0442\u0430 git/testing , \u043f\u043e\u0442\u043e\u043c (\u0432 \u043a\u043e\u043d\u0441\u043e\u043b\u0438) \u0444\u0430\u0439\u043b file. \u0422\u0435\u043f\u0435\u0440\u044c \u043d\u0430\u043c \u044d\u0442\u0443 \u043f\u0430\u043f\u043a\u0443 \u0441 \u0444\u0430\u0439\u043b\u043e\u043c \u043d\u0430\u0434\u043e \u0431\u044b \u0441\u0438\u043d\u0445\u0440\u043e\u043d\u0438\u0437\u0438\u0440\u043e\u0432\u0430\u0442\u044c \u0441 \u0441\u0435\u0440\u0432\u0440\u0435\u0440\u043e\u043c, \u043d\u043e \u0441\u043d\u0430\u0447\u0430\u043b\u0430 \u0441\u043e\u0437\u0434\u0430\u0435\u0442\u0441\u044f \u0441\u0442\u0440\u0443\u043a\u0442\u0443\u0440\u0430 \u043f\u0430\u043f\u043e\u043a \u0432 \u043b\u043e\u043a\u0430\u043b\u044c\u043d\u043e\u043c \u043a\u043e\u043c\u043f\u044c\u044e\u0442\u0435\u0440\u0435 (init       Create an empty git repository or reinitialize an existing one):"
    },
    {
     "cell_type": "code",
     "collapsed": false,
     "input": "# \u0412\u043e\u0442 \u043a\u043e\u043f\u0438\u044f \"git init\" \u0438\u0437 \u043c\u043e\u0435\u0439 \u043a\u043e\u043d\u0441\u043e\u043b\u0438\nroot@kali:~/git/testing# git init\nInitialized empty Git repository in /root/git/testing/.git/",
     "language": "python",
     "metadata": {},
     "outputs": []
    },
    {
     "cell_type": "markdown",
     "metadata": {},
     "source": "\u041e\u0442\u043c\u0435\u0442\u0438\u043c, \u0447\u0442\u043e \u0441\u0442\u0440\u0443\u043a\u0442\u0443\u0440\u0430 \u043f\u0430\u043f\u043e\u043a \u0440\u0435\u043f\u043e\u0437\u0438\u0442\u043e\u0440\u0438\u044f \u0434\u043e\u0432\u043e\u043b\u044c\u043d\u043e \u0441\u043b\u043e\u0436\u043d\u0430, \u0438 \u0432 \u043d\u0435\u0435 \u043d\u0430\u0434\u043e \u0434\u043e\u0431\u0430\u0432\u0438\u0442\u044c \u0441\u0443\u0449\u0435\u0441\u0442\u0432\u0443\u044e\u0449\u0438\u0435 \u0444\u0430\u0439\u043b\u044b  "
    },
    {
     "cell_type": "code",
     "collapsed": false,
     "input": "# do not forget about dot after \"git add .\"\n\nroot@kali:~/git/testing# git add\nNothing specified, nothing added.\nMaybe you wanted to say 'git add .'?\nroot@kali:~/git/testing# git add .\nroot@kali:~/git/testing# ",
     "language": "python",
     "metadata": {},
     "outputs": []
    },
    {
     "cell_type": "code",
     "collapsed": false,
     "input": "\n#Every time you add or make changes to files, you need to write a commit message\n#Commit messages are generally rather short, between one and two sentences explaining what your change did. ",
     "language": "python",
     "metadata": {},
     "outputs": []
    },
    {
     "cell_type": "heading",
     "level": 4,
     "metadata": {},
     "source": "Creating a commit message "
    },
    {
     "cell_type": "code",
     "collapsed": false,
     "input": "root@kali:~/git/testing# git commit -m \"Initial Commi_1t\" -a\n[master (root-commit) 727d1db] Initial Commi_1t\n Committer: root <root@localhost.localdomain>\nYour name and email address were configured automatically based\non your username and hostname. Please check that they are accurate.\nYou can suppress this message by setting them explicitly:\n\n    git config --global user.name \"Your Name\"\n    git config --global user.email you@example.com\n\nAfter doing this, you may fix the identity used for this commit with:\n\n    git commit --amend --reset-author\n\n 0 files changed\n create mode 100644 file\n create mode 100644 help\nroot@kali:~/git/testing# \n",
     "language": "python",
     "metadata": {},
     "outputs": []
    },
    {
     "cell_type": "markdown",
     "metadata": {},
     "source": "There are two important parameters of the above command. The first is **-m**, which signifies that our commit message (in this case \"Initial Commit\") is going to follow. Secondly, the **-a** signifies that we want our commit message to be applied to all added or modified files. \n\nThis is okay for the first commit, but generally you should specify the individual files or directories that we want to commit. We could have also done: "
    },
    {
     "cell_type": "code",
     "collapsed": false,
     "input": "root@kali:~/git/testing# git commit -m \"Initial Commit_2\" file\n# On branch master\nnothing to commit (working directory clean)",
     "language": "python",
     "metadata": {},
     "outputs": []
    },
    {
     "cell_type": "markdown",
     "metadata": {},
     "source": "To specify a particular file to commit. To add additional files or directories, you just add a space separated list to the end of that command. "
    },
    {
     "cell_type": "heading",
     "level": 4,
     "metadata": {},
     "source": "Pushing changes to a remote server"
    },
    {
     "cell_type": "markdown",
     "metadata": {},
     "source": "Up until this point, we have done everything on our local server. ...If you want to work with a team of developers, however, you're going to need to push changes to a remote server. "
    },
    {
     "cell_type": "code",
     "collapsed": false,
     "input": "root@kali:~/git/testing# git remote add origin https://github.com/apython/forblog.git",
     "language": "python",
     "metadata": {},
     "outputs": []
    },
    {
     "cell_type": "markdown",
     "metadata": {},
     "source": "\u041f\u043e\u0441\u043b\u0435 \u043f\u043e\u043f\u044b\u0442\u043a\u0438 \u043e\u0431\u043d\u043e\u0432\u043b\u0435\u043d\u0438\u044f \u0432\u044b\u0441\u043a\u043e\u0447\u0438\u043b\u0438 \u0441\u0442\u0440\u0430\u0448\u043d\u044b\u0435 \u043e\u0448\u0438\u0431\u043a\u0438 \u043d\u0430\u0441\u0447\u0435\u0442 \u043e\u0442\u0441\u0443\u0442\u0441\u0442\u0432\u0438\u044f \u0443 \u043c\u0435\u043d\u044f email. \u041f\u043e\u043f\u0440\u043e\u0431\u043e\u0432\u0430 \u0432\u044b\u043f\u043e\u043b\u043d\u0438\u0442\u044c \u0440\u0435\u043a\u043e\u043c\u0435\u043d\u0434\u0430\u0446\u0438\u0438 [Why are my commits linked to the wrong user?](https://help.github.com/articles/why-are-my-commits-linked-to-the-wrong-user). \u0423\u0441\u0442\u0430\u043d\u043e\u0432\u0438\u043b (\u0447\u0435\u0440\u0435\u0437 \u043a\u043e\u043d\u0441\u043e\u043b\u044c) \u043f\u0430\u0440\u0430\u043c\u0435\u0442\u0440:"
    },
    {
     "cell_type": "code",
     "collapsed": false,
     "input": "git config --global user.email \"c131mai@gmail.com\"",
     "language": "python",
     "metadata": {},
     "outputs": []
    },
    {
     "cell_type": "markdown",
     "metadata": {},
     "source": "\u041f\u043e\u0442\u043e\u043c \u0443\u0434\u043e\u0441\u0442\u043e\u0432\u0435\u0440\u0438\u043b\u0441\u044f, \u0447\u0442\u043e \u043f\u0430\u0440\u0430\u043c\u0435\u0442\u0440 \u043f\u043e\u044f\u0432\u0438\u043b\u0441\u044f "
    },
    {
     "cell_type": "code",
     "collapsed": false,
     "input": "root@kali:~/git/testing# git config -l\nuser.email=c131mai@gmail.com\ncore.repositoryformatversion=0\ncore.filemode=true\ncore.bare=false\ncore.logallrefupdates=true\nremote.origin.url=https://github.com/apython/forblog.git\nremote.origin.fetch=+refs/heads/*:refs/remotes/origin/*",
     "language": "python",
     "metadata": {},
     "outputs": []
    },
    {
     "cell_type": "code",
     "collapsed": false,
     "input": "\u041f\u043e\u0442\u043e\u043c \u0434\u043e\u0447\u0438\u0442\u0430\u043b \u0441\u0442\u0430\u0442\u044c\u044e. \u0423\u0441\u0442\u0430\u043d\u043e\u0432\u0438\u043b \u043f\u0443\u0431\u043b\u0438\u0447\u043d\u044b\u0439 e-mai, \u0438 \u0432 \u043a\u043e\u043d\u0446\u0435 \u043f\u0440\u043e\u0447\u0438\u0442\u0430\u043b, \u0447\u0442\u043e \u0435\u0441\u043b\u0438 \u044d\u0442\u043e\u0442 e-mail \u0432\u044b \u0438\u0441\u043f\u043e\u043b\u044c\u0437\u043e\u0432\u0430\u043b\u0438 \u0434\u043b\u044f \u0434\u0440\u0443\u0433\u043e\u0433\u043e \u0430\u043a\u043a\u0430\u0443\u043d\u0442\u0430, \u0442\u043e \u0432\u0430\u0441 \u043c\u043e\u0433\u0443\u0442 \u0438 \u043f\u043e\u044d\u0442\u043e\u043c\u0443 \u043e\u0431\u0440\u0443\u0433\u0430\u0442\u044c...\n\u0410 \u0443 \u043c\u0435\u043d\u044f \u043d\u0430 \u0434\u0440\u0443\u0433\u043e\u043c \u0430\u043a\u043a\u0430\u0443\u043d\u0442\u0435 \u043a\u0430\u043a\u043e\u0439 e-mail?\n\u0421\u043b\u043e\u0432\u043e\u043c, \u0434\u043b\u044f \u043d\u0430\u0447\u0430\u043b\u0430 \u0441\u043b\u0438\u0448\u043a\u043e\u043c \u043c\u043d\u043e\u0433\u043e \u0438\u043d\u0444\u043e\u0440\u043c\u0430\u0446\u0438\u0438, \u043f\u043e\u043a\u0430 \u0432\u0440\u043e\u0434\u0435 \u0431\u044b \u0432\u0441\u0435 \u0440\u0430\u0431\u043e\u0442\u0430\u0435\u0442, \u043f\u043e\u0442\u043e\u043c\u0443 \u0437\u0434\u0435\u0441\u044c \u0440\u0430\u0441\u043f\u0435\u0447\u0430\u0442\u0430\u0435\u0430 \u0435\u0449\u0435 \u0432\u043e\u0442 \u044d\u0442\u0443 \u0441\u043f\u0440\u0430\u0432\u043a\u0443 \u0438\u0437 \u043a\u043e\u043d\u0441\u043e\u043b\u0438.",
     "language": "python",
     "metadata": {},
     "outputs": []
    },
    {
     "cell_type": "code",
     "collapsed": false,
     "input": "root@kali:~/git/testing# git config\nusage: git config [options]\n\nConfig file location\n    --global              use global config file\n    --system              use system config file\n    --local               use repository config file\n    -f, --file <file>     use given config file\n\nAction\n    --get                 get value: name [value-regex]\n    --get-all             get all values: key [value-regex]\n    --get-regexp          get values for regexp: name-regex [value-regex]\n    --replace-all         replace all matching variables: name value [value_regex]\n    --add                 adds a new variable: name value\n    --unset               removes a variable: name [value-regex]\n    --unset-all           removes all matches: name [value-regex]\n    --rename-section      rename section: old-name new-name\n    --remove-section      remove a section: name\n    -l, --list            list all\n    -e, --edit            opens an editor\n    --get-color <slot>    find the color configured: [default]\n    --get-colorbool <slot>\n                          find the color setting: [stdout-is-tty]\n\nType\n    --bool                value is \"true\" or \"false\"\n    --int                 value is decimal number\n    --bool-or-int         value is --bool or --int\n    --path                value is a path (file or directory name)\n\nOther\n    -z, --null            terminate values with NUL byte\n    --includes            respect include directives on lookup\n\n",
     "language": "python",
     "metadata": {},
     "outputs": []
    },
    {
     "cell_type": "markdown",
     "metadata": {},
     "source": "\u0418 \u043f\u043e\u043f\u0440\u043e\u0431\u0443\u0435\u043c \u044d\u0442\u043e\u0442 \u0444\u0430\u0439\u043b \u043e\u0442\u043f\u0440\u0430\u0432\u0438\u0442\u044c \u0432 Github."
    }
   ],
   "metadata": {}
  }
 ]
}