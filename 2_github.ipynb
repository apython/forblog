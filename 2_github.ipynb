{
 "metadata": {
  "name": "2_github"
 },
 "nbformat": 3,
 "nbformat_minor": 0,
 "worksheets": [
  {
   "cells": [
    {
     "cell_type": "heading",
     "level": 3,
     "metadata": {},
     "source": [
      "\u0412\u0438\u0442\u0430\u043d\u0438\u0435 \u0432 \u043e\u0431\u043b\u0430\u043a\u0430\u0445... \u0443\u0441\u0442\u0430\u043d\u043e\u0432\u043a\u0430 \u0438 \u043f\u0435\u0440\u0432\u044b\u0435 \u0448\u0430\u0433\u0438 \u0441 GitHub ... \u0430 \u043a\u0430\u043a \u0440\u0430\u0431\u043e\u0442\u0430\u0442\u044c \u0441 \u043d\u0435\u0441\u043a\u043e\u043b\u044c\u043a\u0438\u0445 \u043a\u043e\u043c\u043f\u044c\u044e\u0442\u0435\u0440\u043e\u0432 \u0441 \u0440\u0430\u0437\u043d\u044b\u043c\u0438 OS?"
     ]
    },
    {
     "cell_type": "markdown",
     "metadata": {},
     "source": [
      "\u042d\u0442\u043e \u0432\u0442\u043e\u0440\u043e\u0439 \u043f\u043e\u0441\u0442, \u043a\u043e\u0442\u043e\u0440\u044b\u0439 \u044f \u043f\u0438\u0448\u0443 \u0441 \u043a\u043e\u043c\u043f\u044c\u044e\u0442\u0435\u0440\u0430 \u0441 \u041eS Debian... \u0418\u043c\u0435\u043d\u043d\u043e \u044d\u0442\u043e\u0442 \u0434\u0438\u0441\u0442\u0440\u0438\u0431\u0443\u0442\u0438\u0432 \u044f \u0437\u0430\u043f\u0443\u0441\u0442\u0438\u043b \u0432\u0447\u0435\u0440\u0430 \u0441 USB Stick \u0438 \u043f\u0440\u043e\u0432\u0435\u0440\u0438\u043b \u0432 \u0440\u0435\u0436\u0438\u043c\u0435 persistence. \u0418\u043c\u0435\u043d\u043d\u043e IPython \u044f \u043f\u043e\u0441\u0442\u0430\u0432\u0438\u043b \u0441 \u043f\u043e\u043c\u043e\u0449\u044c\u044e apt get ... \u0438 \u0431\u044b\u043b \u0441\u0447\u0430\u0441\u0442\u043b\u0438\u0432, \u043a\u043e\u0433\u0434\u0430 \u043f\u043e\u0441\u043b\u0435 \u043f\u0435\u0440\u0435\u0437\u0430\u0433\u0440\u0443\u0437\u043a\u0438 \"ipython notebook\" \u043d\u0430\u0448\u0435\u043b\u0441\u044f \u0438 \u0437\u0430\u043f\u0443\u0441\u0442\u0438\u043b\u0441\u044f  (\u043e\u0431 \u044d\u0442\u043e\u043c \u043f\u0440\u0435\u0434\u044b\u0434\u0443\u0449\u0438\u0439 \u043f\u043e\u0441\u0442). \u0412\u043e \u0432\u0442\u043e\u0440\u043e\u0439 \u0447\u0430\u0441\u0442\u0438 \u043f\u043e\u0441\u0442\u0430 \u044f \u0441\u043e\u0437\u0434\u0430\u043b \u0441\u0432\u043e\u0439 \u0440\u0435\u043f\u043e\u0437\u0438\u0442\u043e\u0438\u0439 \u043d\u0430 [GitHub](https://github.com/apython/forblog), \u043f\u043e\u0442\u043e\u043c \u043f\u043e\u043f\u0440\u043e\u0431\u043e\u0432\u0430\u043b \u0435\u0433\u043e \u0441\u0438\u043d\u0445\u0440\u043e\u043d\u0438\u0437\u0438\u0440\u043e\u0432\u0430\u0442\u044c \u0441 \u043b\u043e\u043a\u0430\u043b\u044c\u043d\u044b\u043c Debian, \u043f\u043e\u043b\u0443\u0447\u0438\u043b\u043e\u0441\u044c, \u043d\u043e \u043d\u0435 \u0432\u0441\u0435... \u0410 \u043d\u0430\u0447\u0438\u043d\u0430\u0435\u043c \u0441 \u0440\u0430\u0441\u0441\u0443\u0436\u0434\u0435\u043d\u0438\u0439 \u043e\u0431 \u0438\u043d\u0444\u0440\u0430\u0441\u0442\u0440\u0443\u043a\u0442\u0443\u0440\u0435... \n",
      "\n",
      "\u041e\u0447\u0435\u0432\u0438\u0434\u043d\u043e, \u0447\u0442\u043e \u0440\u0430\u0434\u043e\u0432\u0430\u0442\u044c\u0441\u044f \u0440\u0430\u043d\u043e. \u041f\u043e\u043b\u0430\u0433\u0430\u044e, \u0447\u0442\u043e \u0433\u0435\u043d\u0438\u0439 \u0411\u0438\u043b\u043b\u0430 \u0413\u0435\u0439\u0442\u0441 \u0437\u0430\u043a\u043b\u044e\u0447\u0430\u0435\u0442\u0441\u044f \u0432 \u0442\u043e\u043c, \u0447\u0442\u043e \u043d\u0438\u043a\u0442\u043e \u043f\u043e\u043a\u0430 \u043d\u0435 \u043d\u0430\u0443\u0447\u0438\u043b\u0441\u044f \u043e\u0431\u0441\u043b\u0443\u0436\u0438\u0432\u0430\u0442\u044c \"\u0438\u043d\u0444\u0440\u0430\u0441\u0442\u0440\u0443\u043a\u0442\u0443\u0440\u0443\" (\u0441\u0442\u0435\u043a \u0440\u0430\u0431\u043e\u0447\u0438\u0445 \u043f\u0440\u043e\u0433\u0440\u0430\u043c\u043c), \u043b\u0443\u0447\u0448\u0435, \u0447\u0435\u043c Microsoft. \n",
      "\n",
      "\u0412\u043e\u0441\u043f\u043e\u043b\u044c\u0437\u0443\u0435\u043c\u0441\u044f \u0441\u0442\u0430\u043d\u0434\u0430\u0440\u0442\u0430\u043c\u0438 Microsoft \u0438 \u043e\u0446\u0435\u043d\u0438\u043c \u0440\u0438\u0441\u043a\u0438 (\u0434\u043b\u044f \u043d\u0430\u0447\u0430\u043b\u0430)."
     ]
    },
    {
     "cell_type": "heading",
     "level": 4,
     "metadata": {},
     "source": [
      "\u0412\u0435\u0440\u043e\u044f\u0442\u043d\u043e\u0441\u0442\u044c \"\u043f\u043e\u043b\u043e\u043c\u043a\u0438\" \u0444\u043b\u0435\u0448\u043a\u0438"
     ]
    },
    {
     "cell_type": "markdown",
     "metadata": {},
     "source": [
      "\u041a\u0430\u043a \u043e\u0431\u043d\u043e\u0432\u043b\u044f\u0435\u0442\u0441\u044f Windows \u0432\u0441\u0435 \u0437\u043d\u0430\u044e\u0442, \u043d\u043e \u043d\u0438\u043a\u0442\u043e \u043d\u0435 \u0437\u0430\u043c\u0435\u0447\u0430\u0435\u0442. \u042f \u0437\u0430\u043c\u0435\u0442\u0438\u043b, \u043d\u0430\u0441\u043a\u043e\u043b\u044c\u043a\u043e \u0445\u043e\u0440\u043e\u0448\u043e \u0443 \u043d\u0438\u0445 \u0432\u0441\u0435 \u043f\u0440\u043e\u0438\u0441\u0445\u043e\u0434\u0438\u0442, \u043f\u043e\u0441\u043b\u0435 \u0442\u043e\u0433\u043e, \u043a\u0430\u043a \u043d\u0430\u0447\u0430\u043b \u0438\u0441\u043f\u043e\u043b\u044c\u0437\u043e\u0432\u0430\u0442\u044c \u0438 \u043e\u0431\u043d\u043e\u0432\u043b\u044f\u0442\u044c Centos. \u041f\u0435\u0440\u0432\u044b\u0439 \u0441\u0431\u043e\u0439 \u0437\u0430\u0433\u0440\u0443\u0437\u043a\u0438 \u043f\u043e\u0441\u043b\u0435 \u043e\u0431\u043d\u043e\u0432\u043b\u0435\u043d\u0438\u044f - \"kernel panic\" \u0438\u0441\u043f\u0443\u0433\u0430\u043b \u0438 \u043e\u0442\u043d\u044f\u043b \u0434\u043e\u0432\u043e\u043b\u044c\u043d\u043e \u043c\u043d\u043e\u0433\u043e \u0432\u0440\u0435\u043c\u0435\u043d\u0438. \u0422\u043e\u0433\u0434\u0430 \u044f \u0440\u0435\u0448\u0438\u043b \u043d\u0435 \u0431\u0438\u0442\u044c\u0441\u044f \u0433\u043e\u043b\u043e\u0432\u043e\u0439 \u0432 \u0441\u0442\u0435\u043d\u0443, \u0430 \u043f\u0440\u043e\u0441\u0442\u043e \"\u043e\u0442\u043a\u0430\u0442\u0438\u0442\u044c\" \u0438 \u0440\u0430\u0431\u043e\u0442\u0430\u0442\u044c \u043d\u0430 \u0441\u0442\u0430\u0440\u043e\u0439 \u0437\u0430\u0433\u0440\u0443\u0437\u043a\u0435... \u041f\u0440\u0438 \u043e\u0447\u0435\u0440\u0435\u0434\u043d\u043e\u043c \u043e\u0431\u043d\u043e\u0432\u043b\u0435\u043d\u0438\u0438 \u0432\u0441\u0435 \u0431\u044b\u043b\u043e \u0438\u0441\u043f\u0440\u0430\u0432\u043b\u0435\u043d\u043e. \u042f \u0442\u043e\u0433\u0434\u0430 \u043f\u043e\u043d\u044f\u043b, \u043f\u043e\u0447\u0435\u043c\u0443 \u0432 \u043c\u0435\u043d\u044e \u0437\u0430\u0433\u0440\u0443\u0437\u043a\u0438 \u0432\u044b\u0441\u043a\u0430\u043a\u0438\u0432\u0430\u0435\u0442 \u0441\u0440\u0430\u0437\u0443 \u0441 \u0434\u0435\u0441\u044f\u0442\u043e\u043a \u043f\u0440\u0435\u0434\u044b\u0434\u0443\u0449\u0438\u0445 \u0432\u0430\u0440\u0438\u0430\u043d\u0442\u043e\u0432.\n",
      "\u041e\u0434\u043d\u0430\u043a\u043e, \u044d\u0442\u0430 \u043f\u0440\u043e\u0431\u043b\u0435\u043c\u0430 \u0441\u0442\u0430\u043b\u0430 \u0432\u043e\u0437\u043d\u0438\u043a\u0430\u0442\u044c \u0432\u0441\u0435 \u0447\u0430\u0449\u0435...\n",
      "\u0412 \u043a\u043e\u043d\u0446\u0435 \u043a\u043e\u043d\u0446\u043e\u0432 \u0438 \u043d\u043e\u0432\u044b\u0439 \u0440\u0435\u043b\u0438\u0437 Centos 6.3 \u043d\u0430\u0434\u043e \u0431\u044b\u043b\u043e \u043f\u0435\u0440\u0435\u0443\u0441\u0442\u0430\u043d\u0432\u043b\u0438\u0432\u0430\u0442\u044c, \u0438 \u0441\u0442\u0430\u0440\u044b\u0439 5.9.. \u0443\u0432\u0435\u0440\u0435\u043d\u043d\u043e \u0432\u044b\u0434\u0430\u0432\u0430\u043b \"kernel panic\" \u043f\u0440\u0438 \u043a\u0430\u0436\u0434\u043e\u043c \u043e\u0431\u043d\u043e\u0432\u043b\u0435\u043d\u0438\u0438...\n",
      "\n",
      "\u0410 \u043e\u043d\u043e \u043c\u043d\u0435 \u043d\u0430\u0434\u043e \u0431\u044b\u043b\u043e? \u0417\u0430\u043b\u0435\u0437\u0430\u0442\u044c \u0432 \u0433\u043b\u0443\u0431\u0438\u043d\u044b... \u041f\u043e \u0441\u0443\u0442\u0438, \u043f\u0435\u0440\u0443\u0441\u0442\u0430\u043d\u0430\u0432\u043b\u0438\u0432\u0430\u0442\u044c \u0432\u0442\u043e\u0440\u0443\u044e OS (\u043f\u0435\u0440\u0432\u0430\u044f - Windows). \u0414\u0430 \u0435\u0449\u0435 \u0438 \u0441\u043f\u0435\u0446\u0438\u0430\u043b\u0438\u0437\u0438\u0440\u043e\u0432\u0430\u043d\u043d\u044b\u0435 \u0434\u0438\u0441\u0442\u0440\u0438\u0431\u0443\u0442\u0438\u0432\u044b \u043d\u0430\u0448\u043b\u0438\u0441\u044c... \u0448\u0442\u0443\u043a 100 ... \u0418 \u0441\u0442\u0430\u043b \u044f \u043f\u043b\u043e\u0434\u0438\u0442\u044c \u0444\u043b\u0435\u0448\u043a\u0438... \u041f\u043e\u043f\u0440\u043e\u0431\u043e\u0432\u0430\u043b, \u0430\u043d\u0442\u0438\u0432\u0438\u0440\u0443\u0441\u044b,  SL-63 \u0440\u0430\u0431\u043e\u0442\u0430\u0435\u0442... \n",
      "\n",
      "\u041f\u043e\u043b\u0443\u0447\u0430\u0435\u0442\u0441\u044f \"\u0434\u0435\u0448\u0435\u0432\u043e \u0438 \u0441\u0435\u0440\u0434\u0438\u0442\u043e\" - \u044e\u0437\u0430\u0442\u044c \u0441\u0440\u0430\u0437\u0443 \u043d\u0435\u0441\u043a\u043e\u043b\u044c\u043a\u043e \u0441\u043f\u0435\u0446\u0438\u0430\u043b\u0438\u0437\u0438\u0440\u043e\u0432\u0430\u043d\u043d\u044b\u0445 \u0434\u0438\u0441\u0442\u0440\u0438\u0431\u0443\u0442\u0438\u0432\u043e\u0432... \u043f\u043e\u043a\u0430 \u043d\u0435 \u043d\u0430\u0448\u0435\u043b\u0441\u044f \"\u043b\u044e\u0431\u0438\u043c\u044b\u0439\"... \u041d\u043e \u043d\u0435 \u0442\u0443\u0442-\u0442\u043e \u0431\u044b\u043b\u043e, \u0434\u0438\u0441\u0442\u0440\u0438\u0431\u0443\u0442\u0438\u0432\u044b \u043f\u043e\u044f\u0432\u043b\u044f\u044e\u0442\u0441\u044f \u0440\u0430\u043d\u044c\u0448\u0435, \u0447\u0435\u043c \u0443\u0441\u043f\u0435\u0432\u0430\u0435\u0448\u044c \u0437\u0430\u0432\u0435\u0441\u0442\u0438 \"\u0441\u0435\u0440\u044c\u0435\u0437\u043d\u044b\u0435 \u043e\u0442\u043d\u043e\u0448\u0435\u043d\u0438\u044f\". \u0422\u0435\u043c \u0431\u043e\u043b\u0435\u0435, \u0447\u0442\u043e windows \u043f\u043e\u043a\u0430 \"\u0437\u0430\u043a\u0440\u044b\u0432\u0430\u0435\u0442\" \u0431\u043e\u043b\u044c\u0448\u0438\u043d\u0441\u0442\u0432\u043e \u0437\u0430\u0434\u0430\u0447... \n",
      "\n",
      "\u0422\u0430\u043a \u043f\u043e\u044f\u0432\u043b\u044f\u0435\u0442\u0441\u044f \u043c\u0435\u0447\u0442\u0430 \"bootable USB persistence\". \n",
      "\u0418 \u0432\u043e\u0442 \u043c\u0435\u0447\u0442\u0430 \u0440\u0435\u0430\u043b\u0438\u0437\u043e\u0432\u0430\u043d\u0430, \u0438 \u0442\u0435\u043f\u0435\u0440\u044c \u043d\u0430\u0434\u043e \u0441\u0442\u0430\u0432\u0438\u0442\u044c, \u0434\u043e\u0443\u0441\u0442\u0430\u043d\u0430\u0432\u043b\u0438\u0432\u0430\u0442\u044c... \u0438 \u043e\u0431\u043d\u043e\u0432\u043b\u044f\u0442\u044c \u0441\u043e\u0444\u0442 \u043d\u0435 \u043d\u0430 \u0432\u0438\u043d\u0447\u0435\u0441\u0442\u0435\u0440, \u0430 \u043d\u0430 \u0444\u043b\u0435\u0448\u043a\u0443."
     ]
    },
    {
     "cell_type": "markdown",
     "metadata": {},
     "source": [
      "**USB \u043f\u0435\u0440\u0435\u0441\u0442\u0430\u043d\u0435\u0442 \u0437\u0430\u0433\u0440\u0443\u0436\u0430\u0442\u044c\u0441\u044f**,\n",
      "**\u041f\u0435\u0440\u0435\u0441\u0442\u0430\u043d\u0435\u0442 \u0440\u0430\u0431\u043e\u0442\u0430\u0442\u044c Persistence**,\n",
      "\n",
      "\u041f\u0435\u0440\u0435\u043f\u043e\u043b\u043d\u0435\u043d\u0438\u0435...,\n",
      "\u0414\u0430\u043d\u043d\u044b\u0435 \u043d\u0435 \u0438\u0434\u0435\u043d\u0442\u0438\u0444\u0438\u0446\u0438\u0440\u0443\u044e\u0442\u0441\u044f,\n",
      "\n",
      "\"\u0417\u0430\u0431\u044b\u0442\u043e\" \u043a\u0430\u043a\u0438\u0435 \u043f\u0430\u043a\u0435\u0442\u044b \u0443\u0441\u0442\u0430\u043d\u043e\u0432\u043b\u0435\u043d\u044b..."
     ]
    },
    {
     "cell_type": "markdown",
     "metadata": {},
     "source": [
      "\u041e\u0447\u0435\u0432\u0438\u0434\u043d\u043e, \u0447\u0442\u043e \"\u043f\u043e\u043b\u043e\u043c\u0430\u0442\u044c \u0444\u043b\u0435\u0448\u043a\u0443\" \u043f\u0440\u043e\u0449\u0435 \u0432\u0441\u0435\u0433\u043e \u043c\u0435\u0445\u0430\u043d\u0438\u0447\u0435\u0441\u043a\u0438, \u0430 \u043f\u043e\u0442\u043e\u043c\u0443 \u043f\u0440\u043e\u0449\u0435 \u0432\u0441\u0435\u0433\u043e \u0431\u044b\u043b\u043e \u0431\u044b \u0433\u0434\u0435-\u0442\u043e \u0445\u0440\u0430\u043d\u0438\u0442\u044c \u0440\u0435\u0437\u0435\u0440\u0432\u043d\u0443\u044e \u043a\u043e\u043f\u0438\u044e..., \u043d\u043e \u0444\u043e\u0440\u043c\u0430\u0442\u0438\u0440\u043e\u0432\u0430\u043d\u0438\u0435 \u0440\u0430\u0437\u0434\u0435\u043b\u0430 persistence ext4, \u0435\u0433\u043e \u0435\u0449\u0435 \u0438 windows \u043d\u0435 \u0447\u0438\u0442\u0430\u0435\u0442.... "
     ]
    },
    {
     "cell_type": "markdown",
     "metadata": {},
     "source": [
      "...\u041f\u043e\u043b\u0435\u0437\u043d\u043e\u0435 \u044d\u0442\u043e \u0434\u0435\u043b\u043e, \u0434\u0443\u043c\u0430\u0442\u044c \u043e \u0440\u0438\u0441\u043a\u0430\u0445... \u041d\u043e \u0441\u043f\u0435\u0448\u0438\u0442\u044c \u043d\u0435 \u0431\u0443\u0434\u0435\u043c. \u041e\u0431\u0440\u0430\u0442\u0438\u043c\u0441\u044f \u043a \u0442\u0435\u043a\u0443\u0449\u0438\u043c \u043f\u0440\u043e\u0431\u043b\u0435\u043c\u0430\u043c.\n",
      "\n",
      "\u041a\u0430\u043a \u043c\u043d\u0435 \u043e\u043f\u0443\u0431\u043b\u0438\u043a\u043e\u0430\u0442\u044c \u044d\u0442\u043e\u0442 \u043f\u043e\u0441\u0442 \u0432 \u0431\u043b\u043e\u0433\u0435? \u041a\u043e\u043d\u0432\u0435\u0440\u0442\u0435\u0440\u0430 \u043d\u0435 \u0432\u0438\u0434\u0430\u0442\u044c, \u043e\u0434\u043d\u0430\u043a\u043e... \u041f\u043e\u043a\u0430 \u044f\u0441\u043d\u043e, \u0447\u0442\u043e \u043c\u043e\u0436\u043d\u043e \u043f\u043e\u0440\u0442\u0440\u0438\u0442\u044c \u0432\u0440\u0435\u043c\u044f \u043d\u0430 \u0443\u0442\u0430\u043d\u043e\u0432\u043a\u0443 nbconvert \u043d\u0430 linux (\u043d\u0430\u043f\u043e\u043c\u043d\u044e, \u0447\u0442\u043e \u0432 \u043f\u043e\u0441\u043b\u0435\u0434\u043d\u0438\u0445 \u0432\u0435\u0440\u0441\u0438\u044f\u0445 \u044d\u0442\u0430 \u0443\u0442\u0438\u043b\u0438\u0442\u0430 \u0435\u0442\u0441\u0442\u044c, \u0430 \u0432 \"\u0443\u0441\u0442\u0430\u0440\u0435\u0432\u0448\u0438\u0445\" \u0435\u0435 \u043d\u0430\u0434\u043e \u0434\u043e\u0443\u0441\u0442\u0430\u043d\u0430\u0432\u043b\u0438\u0432\u0430\u0442\u044c... \u0417\u043d\u0430\u043a\u043e\u043c\u0430\u044f \u043a\u0430\u0440\u0442\u0438\u043d\u0430? \u0415\u0449\u0435 \u0431\u044b, \u044d\u0442\u043e \u0431\u0435\u0437\u0443\u0441\u043b\u043e\u0432\u043d\u043e \"\u043b\u0438\u0448\u043d\u044f\u044f \u0440\u0430\u0431\u043e\u0442\u0430\"...\n",
      "\u0430 \u043c\u043e\u0436\u043d\u043e \u043f\u0440\u044f\u043c\u043e \u0441\u0435\u0439\u0447\u0430\u0441 \u043d\u0430\u0447\u0430\u0442\u044c \u0443\u0441\u0442\u0430\u043d\u0430\u0432\u043b\u0438\u0432\u0430\u0442\u044c \u0438 \u043e\u0441\u0432\u0430\u0438\u0432\u0430\u0442\u044c GitHub... \u042d\u0442\u043e \u0440\u0430\u0431\u043e\u0442\u0430, \u043a\u043e\u0442\u0440\u0443\u044e \u043e\u0431\u044f\u0437\u0430\u0442\u0435\u043b\u044c\u043d\u043e \u043d\u0430\u0434\u043e \u0441\u0434\u0435\u043b\u0430\u0442\u044c... \n",
      "\n",
      "\u0422\u0430\u043a \u0447\u0442\u043e \u0437\u0430\u0439\u043c\u0435\u043c\u0441\u044f \u043e\u0441\u0432\u043e\u0435\u043d\u0438\u0435\u043c GitHub"
     ]
    },
    {
     "cell_type": "heading",
     "level": 4,
     "metadata": {},
     "source": [
      "\u041d\u0430\u0441\u0442\u0440\u0430\u0438\u0432\u0430\u0435\u043c \u0440\u0430\u0431\u043e\u0442\u0443 \u0441 GitHub \u0432\u043e\u0442 \u043f\u043e \u044d\u0442\u0438\u043c \u0434\u0432\u0443\u043c \u0440\u0443\u043a\u043e\u0432\u043e\u0434\u0441\u0442\u0432\u0430\u043c:"
     ]
    },
    {
     "cell_type": "markdown",
     "metadata": {},
     "source": [
      "\u041e\u0447\u0435\u0432\u0438\u0434\u043d\u043e, \u0447\u0442\u043e \u043a\u043e\u0434 \u043b\u0443\u0447\u0448\u0435 \u0434\u0435\u0440\u0436\u0430\u0442\u044c \u043d\u0430 GitHub [How To Install Git on Debian 7](https://www.digitalocean.com/community/articles/how-to-install-git-on-debian-7). \u0418 \u0435\u0441\u0442\u044c \u0440\u0435\u043a\u043e\u043c\u0435\u043d\u0434\u0430\u0446\u0438\u0438, \u043a\u0430\u043a \u044d\u0442\u043e \u043b\u0443\u0447\u0448\u0435 \u0434\u0435\u043b\u043a\u0442\u044c [How To Use Git Effectively](https://www.digitalocean.com/community/articles/how-to-use-git-effectively).\n",
      "\n",
      "\u041f\u0440\u043e\u0431\u043e\u0432\u0430\u0442\u044c \u043d\u0430\u0434\u043e \u0432 \u043b\u044e\u0431\u043e\u043c \u0441\u043b\u0443\u0447\u0430\u0435. \u041d\u043e \u043d\u0430\u0434\u043e \u0441\u043e\u0441\u0442\u0430\u0432\u0438\u0442\u044c \u043a\u0430\u043a\u043e\u0439-\u0442\u043e \u043f\u043b\u0430\u043d \u043e\u0431\u0443\u0447\u0435\u043d\u0438\u044f... \u041d\u043e \u043a\u0430\u043a? \u0421\u0430\u043c\u044b\u043c \u0435\u0441\u0442\u0435\u0441\u0442\u0432\u0435\u043d\u043d\u044b\u043c \u043f\u0440\u0435\u0434\u0441\u0442\u0430\u0432\u043b\u044f\u0435\u0442\u0441\u044f \u043f\u043e\u0434\u0445\u043e\u0434 AGILE. \u0415\u0441\u0442\u044c \u043d\u0435\u043a\u0430\u044f \"\u0433\u0435\u043d\u0435\u0440\u0430\u043b\u044c\u043d\u0430\u044f \u043b\u0438\u043d\u0438\u044f\", \u0432\u044b\u0441\u043a\u0430\u043a\u0438\u0432\u0430\u044e\u0449\u0438\u0435 \u0432\u043e\u043f\u0440\u043e\u0441\u044b \u0437\u0430\u043f\u0438\u0441\u044b\u0432\u0430\u044e\u0442\u0441\u044f \u043d\u0430 \u0441\u0442\u0435\u043d\u043a\u0443... \u041f\u043e\u0436\u0430\u043b\u0443\u0439, \u044d\u0442\u043e \u043d\u0430\u0434\u043e \u043f\u0440\u043e\u0432\u0435\u0440\u0438\u0442\u044c... "
     ]
    },
    {
     "cell_type": "heading",
     "level": 4,
     "metadata": {},
     "source": [
      "\u041f\u0440\u043e\u0441\u0442\u043e \u0443\u0441\u0442\u0430\u043d\u0430\u0432\u043b\u0438\u0432\u0430\u0435\u043c  Git on Debian 7"
     ]
    },
    {
     "cell_type": "code",
     "collapsed": false,
     "input": [
      "root@kali:~# sudo apt-get install git-core\n",
      "Reading package lists... Done\n",
      "Building dependency tree       \n",
      "Reading state information... Done\n",
      "The following NEW packages will be installed:\n",
      "  git-core\n",
      "0 upgraded, 1 newly installed, 0 to remove and 151 not upgraded.\n",
      "Need to get 1,336 B of archives.\n",
      "After this operation, 21.5 kB of additional disk space will be used.\n",
      "Get:1 http://http.kali.org/kali/ kali/main git-core all 1:1.7.10.4-1+wheezy1 [1,336 B]\n",
      "Fetched 1,336 B in 0s (1,713 B/s)     \n",
      "Selecting previously unselected package git-core.\n",
      "(Reading database ... 355615 files and directories currently installed.)\n",
      "Unpacking git-core (from .../git-core_1%3a1.7.10.4-1+wheezy1_all.deb) ...\n",
      "Setting up git-core (1:1.7.10.4-1+wheezy1) ...\n",
      "root@kali:~# \n"
     ],
     "language": "python",
     "metadata": {},
     "outputs": []
    },
    {
     "cell_type": "markdown",
     "metadata": {},
     "source": [
      "\u041f\u043e\u0441\u043b\u0435 \u0443\u0441\u0442\u0430\u043d\u043e\u0432\u043a\u0438 \u043d\u0435 \u0433\u0440\u0435\u0445 \u043f\u0440\u043e\u0432\u0435\u0440\u0438\u0442\u044c, \u0447\u0442\u043e \u043c\u044b \u0443\u0441\u0442\u0430\u043d\u043e\u0432\u0438\u043b\u0438:"
     ]
    },
    {
     "cell_type": "code",
     "collapsed": false,
     "input": [
      "!git help"
     ],
     "language": "python",
     "metadata": {},
     "outputs": [
      {
       "output_type": "stream",
       "stream": "stdout",
       "text": [
        "usage: git [--version] [--exec-path[=<path>]] [--html-path] [--man-path] [--info-path]\r\n",
        "           [-p|--paginate|--no-pager] [--no-replace-objects] [--bare]\r\n",
        "           [--git-dir=<path>] [--work-tree=<path>] [--namespace=<name>]\r\n",
        "           [-c name=value] [--help]\r\n",
        "           <command> [<args>]\r\n",
        "\r\n",
        "The most commonly used git commands are:\r\n",
        "   add        Add file contents to the index\r\n",
        "   bisect     Find by binary search the change that introduced a bug\r\n",
        "   branch     List, create, or delete branches\r\n",
        "   checkout   Checkout a branch or paths to the working tree\r\n",
        "   clone      Clone a repository into a new directory\r\n",
        "   commit     Record changes to the repository\r\n",
        "   diff       Show changes between commits, commit and working tree, etc\r\n",
        "   fetch      Download objects and refs from another repository\r\n",
        "   grep       Print lines matching a pattern\r\n",
        "   init       Create an empty git repository or reinitialize an existing one\r\n",
        "   log        Show commit logs\r\n",
        "   merge      Join two or more development histories together\r\n",
        "   mv         Move or rename a file, a directory, or a symlink\r\n",
        "   pull       Fetch from and merge with another repository or a local branch\r\n",
        "   push       Update remote refs along with associated objects\r\n",
        "   rebase     Forward-port local commits to the updated upstream head\r\n",
        "   reset      Reset current HEAD to the specified state\r\n",
        "   rm         Remove files from the working tree and from the index\r\n",
        "   show       Show various types of objects\r\n",
        "   status     Show the working tree status\r\n",
        "   tag        Create, list, delete or verify a tag object signed with GPG\r\n",
        "\r\n",
        "See 'git help <command>' for more information on a specific command.\r\n"
       ]
      }
     ],
     "prompt_number": 1
    },
    {
     "cell_type": "markdown",
     "metadata": {},
     "source": [
      "\u0422\u0435\u043f\u0435\u0440\u044c \u043f\u043e\u0432\u0442\u043e\u0440\u0438\u043c \u0432\u0441\u0435, \u043a\u0430\u043a \u0437\u0434\u0435\u0441\u044c [How To Use Git Effectively](https://www.digitalocean.com/community/articles/how-to-use-git-effectively)"
     ]
    },
    {
     "cell_type": "code",
     "collapsed": false,
     "input": [
      "# The first thing we need to do is create our workspace environment: \n",
      "!mkdir -p ~/git/testing ; cd ~/git/testing"
     ],
     "language": "python",
     "metadata": {},
     "outputs": [],
     "prompt_number": 3
    },
    {
     "cell_type": "markdown",
     "metadata": {},
     "source": [
      "\u041f\u0435\u0440\u0432\u0430\u044f \u0447\u0430\u0441\u0442\u044c \u043a\u043e\u043c\u0430\u043d\u0434\u044b \u0431\u044b\u043b\u0430 \u0432\u044b\u043f\u043e\u043b\u043d\u0435\u043d\u0430, \u0431\u0438\u0431\u043b\u0438\u043e\u0442\u0435\u043a\u0430 \u0431\u044b\u043b\u0430 \u0441\u0434\u0435\u043b\u0430\u043d\u0430, \u043d\u043e \u043f\u0435\u0440\u0435\u0445\u043e\u0434\u0430 \u0432 \u043d\u0435\u0435 \u043d\u0435 \u0431\u044b\u043b\u043e... \u0418 \u043f\u043e\u0442\u043e\u043c \u044f \u043f\u043e\u043f\u044b\u0442\u0430\u043b\u0441\u044f \u0441\u043c\u0435\u043d\u0438\u0442\u044c \u0434\u0438\u0440\u0435\u043a\u0442\u043e\u0440\u0438\u044e - \u043d\u0438\u0447\u0435\u0433\u043e \u043d\u0435 \u043f\u043e\u043b\u0443\u0447\u0438\u043b\u043e\u0441\u044c... \u041f\u043e-\u0432\u0438\u0434\u0438\u043c\u043e\u043c\u0443, \u0440\u0430\u0431\u043e\u0442\u0430\u0435\u0442 \u0437\u0430\u0449\u0438\u0442\u0430... "
     ]
    },
    {
     "cell_type": "code",
     "collapsed": false,
     "input": [
      "!pwd"
     ],
     "language": "python",
     "metadata": {},
     "outputs": [
      {
       "output_type": "stream",
       "stream": "stdout",
       "text": [
        "/home/root/ipython\r\n"
       ]
      }
     ],
     "prompt_number": 4
    },
    {
     "cell_type": "code",
     "collapsed": false,
     "input": [
      "!cd ~/git/testing"
     ],
     "language": "python",
     "metadata": {},
     "outputs": [],
     "prompt_number": 5
    },
    {
     "cell_type": "code",
     "collapsed": false,
     "input": [
      "!ls"
     ],
     "language": "python",
     "metadata": {},
     "outputs": [
      {
       "output_type": "stream",
       "stream": "stdout",
       "text": [
        "2_github.ipynb\tfirst_kali_debian.ipynb\r\n"
       ]
      }
     ],
     "prompt_number": 7
    },
    {
     "cell_type": "markdown",
     "metadata": {},
     "source": [
      "\u041f\u043e\u0441\u043a\u043e\u043b\u044c\u043a\u0443 \u0434\u0438\u0440\u0435\u043a\u0442\u043e\u0440\u0438\u044e \u043f\u043e\u043c\u0435\u043d\u044f\u0442\u044c \u043d\u0435 \u0443\u0434\u0430\u043b\u043e\u0441\u044c, \u0442\u043e \u043f\u0440\u0438\u0448\u043b\u043e\u0441\u044c \u0434\u0430\u043b\u044c\u043d\u0435\u0439\u0448\u0438\u0435 \u043a\u043e\u043c\u0430\u043d\u0434\u044b \u0432\u044b\u043f\u043e\u043b\u043d\u044f\u0442\u044c \u0438\u0437 \u043a\u043e\u043d\u0441\u043e\u043b\u0438:"
     ]
    },
    {
     "cell_type": "code",
     "collapsed": false,
     "input": [
      "# We are going to create a test file to use in our repository: \n",
      "!touch file"
     ],
     "language": "python",
     "metadata": {},
     "outputs": []
    },
    {
     "cell_type": "markdown",
     "metadata": {},
     "source": [
      "\u0417\u0430\u0431\u044b\u043b \u044f \u043f\u0440\u043e touch \u042d\u0442\u0430 \u043a\u043e\u043c\u0430\u043d\u0434\u0430 \u0441\u043e\u0437\u0434\u0430\u0435\u0442 \u043f\u0443\u0441\u0442\u043e\u0439 \u0444\u0430\u0439\u043b. \u0412 /root/git/testing \u043f\u043e\u044f\u0432\u0438\u043b\u0441\u044f \u0444\u0430\u0439\u043b file (\u0442\u0435\u043a\u0441\u0442\u043e\u0432\u044b\u0439 \u0431\u0435\u0437 \u0440\u0430\u0441\u0448\u0438\u0440\u0435\u043d\u0438\u044f... \u0435\u0441\u0442\u0435\u0441\u0442\u0432\u0435\u043d\u043d\u043e)"
     ]
    },
    {
     "cell_type": "markdown",
     "metadata": {},
     "source": [
      "\u0418\u0442\u0430\u043a, \u043c\u044b  \u0441\u043e\u0437\u0434\u0430\u043b\u0438 \u0434\u0438\u0440\u0435\u043a\u0442\u043e\u0440\u0438\u044e \u043f\u0440\u043e\u0435\u043a\u0442\u0430 git/testing , \u043f\u043e\u0442\u043e\u043c (\u0432 \u043a\u043e\u043d\u0441\u043e\u043b\u0438) \u0444\u0430\u0439\u043b file. \u0422\u0435\u043f\u0435\u0440\u044c \u043d\u0430\u043c \u044d\u0442\u0443 \u043f\u0430\u043f\u043a\u0443 \u0441 \u0444\u0430\u0439\u043b\u043e\u043c \u043d\u0430\u0434\u043e \u0431\u044b \u0441\u0438\u043d\u0445\u0440\u043e\u043d\u0438\u0437\u0438\u0440\u043e\u0432\u0430\u0442\u044c \u0441 \u0441\u0435\u0440\u0432\u0440\u0435\u0440\u043e\u043c, \u043d\u043e \u0441\u043d\u0430\u0447\u0430\u043b\u0430 \u0441\u043e\u0437\u0434\u0430\u0435\u0442\u0441\u044f \u0441\u0442\u0440\u0443\u043a\u0442\u0443\u0440\u0430 \u043f\u0430\u043f\u043e\u043a \u0432 \u043b\u043e\u043a\u0430\u043b\u044c\u043d\u043e\u043c \u043a\u043e\u043c\u043f\u044c\u044e\u0442\u0435\u0440\u0435 (init       Create an empty git repository or reinitialize an existing one):"
     ]
    },
    {
     "cell_type": "code",
     "collapsed": false,
     "input": [
      "# \u0412\u043e\u0442 \u043a\u043e\u043f\u0438\u044f \"git init\" \u0438\u0437 \u043c\u043e\u0435\u0439 \u043a\u043e\u043d\u0441\u043e\u043b\u0438\n",
      "root@kali:~/git/testing# git init\n",
      "Initialized empty Git repository in /root/git/testing/.git/"
     ],
     "language": "python",
     "metadata": {},
     "outputs": []
    },
    {
     "cell_type": "markdown",
     "metadata": {},
     "source": [
      "\u041e\u0442\u043c\u0435\u0442\u0438\u043c, \u0447\u0442\u043e \u0441\u0442\u0440\u0443\u043a\u0442\u0443\u0440\u0430 \u043f\u0430\u043f\u043e\u043a \u0440\u0435\u043f\u043e\u0437\u0438\u0442\u043e\u0440\u0438\u044f \u0434\u043e\u0432\u043e\u043b\u044c\u043d\u043e \u0441\u043b\u043e\u0436\u043d\u0430, \u0438 \u0432 \u043d\u0435\u0435 \u043d\u0430\u0434\u043e \u0434\u043e\u0431\u0430\u0432\u0438\u0442\u044c \u0441\u0443\u0449\u0435\u0441\u0442\u0432\u0443\u044e\u0449\u0438\u0435 \u0444\u0430\u0439\u043b\u044b  "
     ]
    },
    {
     "cell_type": "code",
     "collapsed": false,
     "input": [
      "# do not forget about dot after \"git add .\"\n",
      "\n",
      "root@kali:~/git/testing# git add\n",
      "Nothing specified, nothing added.\n",
      "Maybe you wanted to say 'git add .'?\n",
      "root@kali:~/git/testing# git add .\n",
      "root@kali:~/git/testing# "
     ],
     "language": "python",
     "metadata": {},
     "outputs": []
    },
    {
     "cell_type": "code",
     "collapsed": false,
     "input": [
      "\n",
      "#Every time you add or make changes to files, you need to write a commit message\n",
      "#Commit messages are generally rather short, between one and two sentences explaining what your change did. "
     ],
     "language": "python",
     "metadata": {},
     "outputs": []
    },
    {
     "cell_type": "heading",
     "level": 4,
     "metadata": {},
     "source": [
      "Creating a commit message "
     ]
    },
    {
     "cell_type": "code",
     "collapsed": false,
     "input": [
      "root@kali:~/git/testing# git commit -m \"Initial Commi_1t\" -a\n",
      "[master (root-commit) 727d1db] Initial Commi_1t\n",
      " Committer: root <root@localhost.localdomain>\n",
      "Your name and email address were configured automatically based\n",
      "on your username and hostname. Please check that they are accurate.\n",
      "You can suppress this message by setting them explicitly:\n",
      "\n",
      "    git config --global user.name \"Your Name\"\n",
      "    git config --global user.email you@example.com\n",
      "\n",
      "After doing this, you may fix the identity used for this commit with:\n",
      "\n",
      "    git commit --amend --reset-author\n",
      "\n",
      " 0 files changed\n",
      " create mode 100644 file\n",
      " create mode 100644 help\n",
      "root@kali:~/git/testing# \n"
     ],
     "language": "python",
     "metadata": {},
     "outputs": []
    },
    {
     "cell_type": "markdown",
     "metadata": {},
     "source": [
      "There are two important parameters of the above command. The first is **-m**, which signifies that our commit message (in this case \"Initial Commit\") is going to follow. Secondly, the **-a** signifies that we want our commit message to be applied to all added or modified files. \n",
      "\n",
      "This is okay for the first commit, but generally you should specify the individual files or directories that we want to commit. We could have also done: "
     ]
    },
    {
     "cell_type": "code",
     "collapsed": false,
     "input": [
      "root@kali:~/git/testing# git commit -m \"Initial Commit_2\" file\n",
      "# On branch master\n",
      "nothing to commit (working directory clean)"
     ],
     "language": "python",
     "metadata": {},
     "outputs": []
    },
    {
     "cell_type": "markdown",
     "metadata": {},
     "source": [
      "To specify a particular file to commit. To add additional files or directories, you just add a space separated list to the end of that command. "
     ]
    },
    {
     "cell_type": "heading",
     "level": 4,
     "metadata": {},
     "source": [
      "Pushing changes to a remote server"
     ]
    },
    {
     "cell_type": "markdown",
     "metadata": {},
     "source": [
      "Up until this point, we have done everything on our local server. ...If you want to work with a team of developers, however, you're going to need to push changes to a remote server. "
     ]
    },
    {
     "cell_type": "code",
     "collapsed": false,
     "input": [
      "root@kali:~/git/testing# git remote add origin https://github.com/apython/forblog.git"
     ],
     "language": "python",
     "metadata": {},
     "outputs": []
    },
    {
     "cell_type": "markdown",
     "metadata": {},
     "source": [
      "\u041f\u043e\u0441\u043b\u0435 \u043f\u043e\u043f\u044b\u0442\u043a\u0438 \u043e\u0431\u043d\u043e\u0432\u043b\u0435\u043d\u0438\u044f \u0432\u044b\u0441\u043a\u043e\u0447\u0438\u043b\u0438 \u0441\u0442\u0440\u0430\u0448\u043d\u044b\u0435 \u043e\u0448\u0438\u0431\u043a\u0438 \u043d\u0430\u0441\u0447\u0435\u0442 \u043e\u0442\u0441\u0443\u0442\u0441\u0442\u0432\u0438\u044f \u0443 \u043c\u0435\u043d\u044f email. \u041f\u043e\u043f\u0440\u043e\u0431\u043e\u0432\u0430 \u0432\u044b\u043f\u043e\u043b\u043d\u0438\u0442\u044c \u0440\u0435\u043a\u043e\u043c\u0435\u043d\u0434\u0430\u0446\u0438\u0438 [Why are my commits linked to the wrong user?](https://help.github.com/articles/why-are-my-commits-linked-to-the-wrong-user). \u0423\u0441\u0442\u0430\u043d\u043e\u0432\u0438\u043b (\u0447\u0435\u0440\u0435\u0437 \u043a\u043e\u043d\u0441\u043e\u043b\u044c) \u043f\u0430\u0440\u0430\u043c\u0435\u0442\u0440:"
     ]
    },
    {
     "cell_type": "code",
     "collapsed": false,
     "input": [
      "git config --global user.email \"c131mai@gmail.com\""
     ],
     "language": "python",
     "metadata": {},
     "outputs": []
    },
    {
     "cell_type": "markdown",
     "metadata": {},
     "source": [
      "\u041f\u043e\u0442\u043e\u043c \u0443\u0434\u043e\u0441\u0442\u043e\u0432\u0435\u0440\u0438\u043b\u0441\u044f, \u0447\u0442\u043e \u043f\u0430\u0440\u0430\u043c\u0435\u0442\u0440 \u043f\u043e\u044f\u0432\u0438\u043b\u0441\u044f "
     ]
    },
    {
     "cell_type": "code",
     "collapsed": false,
     "input": [
      "root@kali:~/git/testing# git config -l\n",
      "user.email=c131mai@gmail.com\n",
      "core.repositoryformatversion=0\n",
      "core.filemode=true\n",
      "core.bare=false\n",
      "core.logallrefupdates=true\n",
      "remote.origin.url=https://github.com/apython/forblog.git\n",
      "remote.origin.fetch=+refs/heads/*:refs/remotes/origin/*"
     ],
     "language": "python",
     "metadata": {},
     "outputs": []
    },
    {
     "cell_type": "code",
     "collapsed": false,
     "input": [
      "\u041f\u043e\u0442\u043e\u043c \u0434\u043e\u0447\u0438\u0442\u0430\u043b \u0441\u0442\u0430\u0442\u044c\u044e. \u0423\u0441\u0442\u0430\u043d\u043e\u0432\u0438\u043b \u043f\u0443\u0431\u043b\u0438\u0447\u043d\u044b\u0439 e-mai, \u0438 \u0432 \u043a\u043e\u043d\u0446\u0435 \u043f\u0440\u043e\u0447\u0438\u0442\u0430\u043b, \u0447\u0442\u043e \u0435\u0441\u043b\u0438 \u044d\u0442\u043e\u0442 e-mail \u0432\u044b \u0438\u0441\u043f\u043e\u043b\u044c\u0437\u043e\u0432\u0430\u043b\u0438 \u0434\u043b\u044f \u0434\u0440\u0443\u0433\u043e\u0433\u043e \u0430\u043a\u043a\u0430\u0443\u043d\u0442\u0430, \u0442\u043e \u0432\u0430\u0441 \u043c\u043e\u0433\u0443\u0442 \u0438 \u043f\u043e\u044d\u0442\u043e\u043c\u0443 \u043e\u0431\u0440\u0443\u0433\u0430\u0442\u044c...\n",
      "\u0410 \u0443 \u043c\u0435\u043d\u044f \u043d\u0430 \u0434\u0440\u0443\u0433\u043e\u043c \u0430\u043a\u043a\u0430\u0443\u043d\u0442\u0435 \u043a\u0430\u043a\u043e\u0439 e-mail?\n",
      "\u0421\u043b\u043e\u0432\u043e\u043c, \u0434\u043b\u044f \u043d\u0430\u0447\u0430\u043b\u0430 \u0441\u043b\u0438\u0448\u043a\u043e\u043c \u043c\u043d\u043e\u0433\u043e \u0438\u043d\u0444\u043e\u0440\u043c\u0430\u0446\u0438\u0438, \u043f\u043e\u043a\u0430 \u0432\u0440\u043e\u0434\u0435 \u0431\u044b \u0432\u0441\u0435 \u0440\u0430\u0431\u043e\u0442\u0430\u0435\u0442, \u043f\u043e\u0442\u043e\u043c\u0443 \u0437\u0434\u0435\u0441\u044c \u0440\u0430\u0441\u043f\u0435\u0447\u0430\u0442\u0430\u0435\u0430 \u0435\u0449\u0435 \u0432\u043e\u0442 \u044d\u0442\u0443 \u0441\u043f\u0440\u0430\u0432\u043a\u0443 \u0438\u0437 \u043a\u043e\u043d\u0441\u043e\u043b\u0438."
     ],
     "language": "python",
     "metadata": {},
     "outputs": []
    },
    {
     "cell_type": "code",
     "collapsed": false,
     "input": [
      "root@kali:~/git/testing# git config\n",
      "usage: git config [options]\n",
      "\n",
      "Config file location\n",
      "    --global              use global config file\n",
      "    --system              use system config file\n",
      "    --local               use repository config file\n",
      "    -f, --file <file>     use given config file\n",
      "\n",
      "Action\n",
      "    --get                 get value: name [value-regex]\n",
      "    --get-all             get all values: key [value-regex]\n",
      "    --get-regexp          get values for regexp: name-regex [value-regex]\n",
      "    --replace-all         replace all matching variables: name value [value_regex]\n",
      "    --add                 adds a new variable: name value\n",
      "    --unset               removes a variable: name [value-regex]\n",
      "    --unset-all           removes all matches: name [value-regex]\n",
      "    --rename-section      rename section: old-name new-name\n",
      "    --remove-section      remove a section: name\n",
      "    -l, --list            list all\n",
      "    -e, --edit            opens an editor\n",
      "    --get-color <slot>    find the color configured: [default]\n",
      "    --get-colorbool <slot>\n",
      "                          find the color setting: [stdout-is-tty]\n",
      "\n",
      "Type\n",
      "    --bool                value is \"true\" or \"false\"\n",
      "    --int                 value is decimal number\n",
      "    --bool-or-int         value is --bool or --int\n",
      "    --path                value is a path (file or directory name)\n",
      "\n",
      "Other\n",
      "    -z, --null            terminate values with NUL byte\n",
      "    --includes            respect include directives on lookup\n",
      "\n"
     ],
     "language": "python",
     "metadata": {},
     "outputs": []
    },
    {
     "cell_type": "code",
     "collapsed": false,
     "input": [
      "root@kali:~/git/testing# git push\n",
      "Username for 'https://github.com': apython\n",
      "Password for 'https://apython@github.com': \n",
      "To https://github.com/apython/forblog.git\n",
      " ! [rejected]        master -> master (non-fast-forward)\n",
      "error: failed to push some refs to 'https://github.com/apython/forblog.git'\n",
      "hint: Updates were rejected because the tip of your current branch is behind\n",
      "hint: its remote counterpart. Merge the remote changes (e.g. 'git pull')\n",
      "hint: before pushing again.\n",
      "hint: See the 'Note about fast-forwards' in 'git push --help' for details.\n",
      "root@kali:~/git/testing# git push --help"
     ],
     "language": "python",
     "metadata": {},
     "outputs": []
    },
    {
     "cell_type": "code",
     "collapsed": false,
     "input": [
      "GIT-PUSH(1)                       Git Manual                       GIT-PUSH(1)\n",
      "\n",
      "NAME\n",
      "       git-push - Update remote refs along with associated objects\n",
      "\n",
      "SYNOPSIS\n",
      "       git push [--all | --mirror | --tags] [-n | --dry-run] [--receive-pack=<gi\n",
      "t-receive-pack>]\n",
      "                  [--repo=<repository>] [-f | --force] [--prune] [-v | --verbose\n",
      "] [-u | --set-upstream]\n",
      "                  [<repository> [<refspec>...]]\n",
      "\n",
      "DESCRIPTION\n",
      "       Updates remote refs using local refs, while sending objects necessary\n",
      "       to complete the given refs.\n",
      "\n",
      "       You can make interesting things happen to a repository every time you\n",
      "       push into it, by setting up hooks there. See documentation for git-\n",
      "       receive-pack(1).\n",
      "\n",
      "OPTIONS\n",
      "       <repository>\n",
      "           The \"remote\" repository that is destination of a push operation.\n",
      "           This parameter can be either a URL (see the section GIT URLS below)\n",
      "           or the name of a remote (see the section REMOTES below).\n",
      "\n",
      "       <refspec>...\n",
      "           The format of a <refspec> parameter is an optional plus +, followed\n",
      "           by the source ref <src>, followed by a colon :, followed by the\n",
      "           destination ref <dst>. It is used to specify with what <src> object\n",
      "           the <dst> ref in the remote repository is to be updated.\n",
      "\n",
      "           The <src> is often the name of the branch you would want to push,\n",
      "           but it can be any arbitrary \"SHA-1 expression\", such as master~4 or\n",
      "           HEAD (see gitrevisions(7)).\n",
      "\n",
      "           The <dst> tells which ref on the remote side is updated with this\n",
      " Manual page git-push(1) line 1 (press h for help or q to quit)\n"
     ],
     "language": "python",
     "metadata": {},
     "outputs": []
    },
    {
     "cell_type": "heading",
     "level": 4,
     "metadata": {},
     "source": [
      "\u0412\u043e\u0442 \u043e\u043d\u043b\u0430\u0439\u043d \u043a\u043d\u0438\u0433\u0438 \u0438 \u0441\u043f\u0440\u0430\u0432\u043e\u0447\u043d\u0438\u043a\u0438"
     ]
    },
    {
     "cell_type": "markdown",
     "metadata": {},
     "source": [
      "\u0412\u043e\u0442 \u0440\u0443\u043a\u043e\u0432\u043e\u0434\u0441\u0442\u0432\u043e \u0441 [Debian](https://wiki.debian.org/PackagingWithGit)<br/>\n",
      "\u0412\u043e\u0442 \u0445\u043e\u0440\u043e\u0448\u0430\u044f \u043d\u043e \u0441\u0442\u0430\u0440\u0430\u044f \u0441\u0442\u0430\u0442\u044c\u044f \u043d\u0430 [\u0425\u0430\u0431\u0440\u0435](http://habrahabr.ru/post/60347/)<br/>\n",
      "\u0412\u043e\u0442 \u0432\u0441\u044f \u0441\u043f\u0440\u0430\u0432\u043a\u0430 [online](https://www.kernel.org/pub/software/scm/git/docs/user-manual.html#sharing-development)<br/>\n",
      "\u0412\u043e\u0442 \u043a\u043d\u0438\u0433\u0430 (\u043e\u043d\u043b\u0430\u0439\u043d) [The entire Pro Git book, written by Scott Chacon and published by Apress, is available here](http://git-scm.com/book)"
     ]
    },
    {
     "cell_type": "heading",
     "level": 4,
     "metadata": {},
     "source": [
      "\u0412 \u0433\u043e\u043b\u043e\u0432\u0435 \u043a\u0430\u0448\u0430. \u041f\u043e\u044d\u0442\u043e\u043c\u0443 \u043d\u0430\u0434\u043e \u043d\u0430\u0439\u0442\u0438 \u0445\u043e\u0440\u043e\u0448\u0435\u0435 \u0432\u0438\u0434\u0435\u043e \u0438 \u0432\u0441\u0435 \u0440\u0430\u0437\u043b\u043e\u0436\u0438\u0442\u044c \u043f\u043e \u043f\u043e\u043b\u043e\u0447\u043a\u0430\u043c"
     ]
    },
    {
     "cell_type": "markdown",
     "metadata": {},
     "source": [
      "\u042d\u0442\u043e \u0432\u0438\u0434\u0435\u043e \u043e\u043a\u0430\u0437\u0430\u043b\u043e\u0441\u044c \u043e\u0447\u0435\u043d\u044c \u0443\u0434\u0430\u0447\u043d\u044b\u043c. \u0412 \u0441\u043e\u0447\u0435\u0442\u0430\u043d\u0438\u0438 \u0441\u043e \u0441\u043f\u0440\u0430\u0432\u043a\u043e\u0439 \u043e\u043d\u043b\u0430\u0439\u043d \u0431\u044b\u0441\u0442\u0440\u043e \u0440\u0430\u0437\u0431\u0438\u0440\u0430\u0435\u0448\u044c \u0432\u0441\u0435 \u043a\u043e\u043c\u0430\u043d\u0434\u044b. \u0418 \u043f\u043e\u043d\u0438\u043c\u0430\u0435\u0448\u044c \u043b\u043e\u0433\u0438\u043a\u0443 (\u043f\u043e\u0441\u043b\u0435\u0434\u043e\u0432\u0430\u0442\u0435\u043b\u044c\u043d\u043e\u0441\u0442\u044c \u043f\u0440\u043e\u0446\u0435\u0441\u0441\u043e\u0432 \u0438 \u043a\u043e\u043c\u0430\u043d\u0434). \u0412\u043e \u0432\u0442\u043e\u0440\u043e\u0439 \u0447\u0430\u0441\u0442\u0438 \u0435\u0441\u0442\u044c \u0443\u043f\u043e\u043c\u0438\u043d\u0430\u043d\u0438\u0435 \u043e GitK... \u041f\u0440\u043e\u0441\u0442\u043e \u043f\u043e\u0432\u0442\u043e\u0440\u044f\u0435\u043c \u0432\u0441\u0435 \u0432\u0441\u043b\u0435\u0434 \u0437\u0430 \u0430\u0432\u0442\u043e\u0440\u043e\u043c \u0432\u0438\u0434\u0435\u043e"
     ]
    },
    {
     "cell_type": "markdown",
     "metadata": {},
     "source": [
      "<iframe width=\"560\" height=\"315\" src=\"//www.youtube.com/embed/DQUcmNO4diQ\" frameborder=\"0\" allowfullscreen></iframe>"
     ]
    },
    {
     "cell_type": "code",
     "collapsed": false,
     "input": [
      "root@kali:~/git/testing# git status\n",
      "# On branch master\n",
      "nothing to commit (working directory clean)\n",
      "# \u0432 \u043c\u043e\u0435\u043c \u043b\u043e\u043a\u0430\u043b\u044c\u043d\u043e\u043c \u0440\u0435\u043f\u043e\u0437\u0438\u0442\u043e\u0440\u0438\u0438 \u043d\u0435\u0442 \u043d\u043e\u0432\u044b\u0445 \u0444\u0430\u0439\u043b\u043e\u0432 (\u0445\u043e\u0442\u044f \u0438\u0445 \u0442\u0430\u043c \u0441\u0442\u0430\u0440\u044b\u0445 \u0443\u0436\u0435 \u0448\u0442\u0443\u043a\u0438 \u0442\u0440\u0438)"
     ],
     "language": "python",
     "metadata": {},
     "outputs": []
    },
    {
     "cell_type": "markdown",
     "metadata": {},
     "source": [
      "\u0421\u043e\u0437\u0434\u0430\u0435\u043c \u0444\u0430\u0439\u043b \u0438 \u0441\u043d\u043e\u0432\u0430 \u0437\u0430\u043f\u0440\u0430\u0448\u0438\u0432\u0430\u0435\u043c \u0441\u0442\u0430\u0442\u0443\u0441:"
     ]
    },
    {
     "cell_type": "code",
     "collapsed": false,
     "input": [
      "root@kali:~/git/testing# touch help2\n",
      "root@kali:~/git/testing# git status\n",
      "# On branch master\n",
      "# Untracked files:\n",
      "#   (use \"git add <file>...\" to include in what will be committed)\n",
      "#\n",
      "#\thelp2\n",
      "nothing added to commit but untracked files present (use \"git add\" to track)\n",
      "root@kali:~/git/testing# "
     ],
     "language": "python",
     "metadata": {},
     "outputs": []
    },
    {
     "cell_type": "markdown",
     "metadata": {},
     "source": [
      "\u0414\u043b\u044f \u0447\u0435\u0433\u043e \u044f \u0432\u044b\u043f\u043e\u043b\u043d\u044f\u044e add? \u0427\u0442\u043e\u0431\u044b \u043d\u0430\u0447\u0430\u0442\u044c \u043e\u0442\u0441\u043b\u0435\u0436\u0438\u0432\u0430\u0442\u044c ...\u0432 \u043b\u043e\u043a\u0430\u043b\u044c\u043d\u043e\u043c (?) \u0440\u0435\u043f\u043e\u0437\u0438\u0442\u043e\u0440\u0438\u0438? \u0421\u043d\u043e\u0432\u0430 \u0437\u0430\u043f\u0440\u043e\u0441\u0438\u043c \u0441\u0442\u0430\u0442\u0443\u0441, \u043e\u043d \u0438\u0437\u043c\u0435\u043d\u0438\u043b\u0441\u044f!"
     ]
    },
    {
     "cell_type": "code",
     "collapsed": false,
     "input": [
      "root@kali:~/git/testing# git add help2\n",
      "root@kali:~/git/testing# git status\n",
      "# On branch master\n",
      "# Changes to be committed:\n",
      "#   (use \"git reset HEAD <file>...\" to unstage)\n",
      "#\n",
      "#\tnew file:   help2\n",
      "#\n",
      "root@kali:~/git/testing# "
     ],
     "language": "python",
     "metadata": {},
     "outputs": []
    },
    {
     "cell_type": "markdown",
     "metadata": {},
     "source": [
      "\u0410 \u0442\u0435\u043f\u0435\u0440\u044c \u043e\u0442\u0440\u0435\u0434\u0430\u043a\u0442\u0438\u0440\u0443\u0435\u043c (\u0438\u0437\u043c\u0435\u043d\u0438\u043c \u0441\u043e\u0434\u0435\u0440\u0436\u0430\u043d\u0438\u0435) \u0444\u0430\u0439\u043b \u0438 \u0441\u043d\u043e\u0432\u0430 \u0437\u0430\u043f\u0440\u043e\u0441\u0438\u043c \u0441\u0442\u0430\u0442\u0443\u0441:"
     ]
    },
    {
     "cell_type": "code",
     "collapsed": false,
     "input": [
      "root@kali:~/git/testing# leafpad help2\n",
      "root@kali:~/git/testing# git status\n",
      "# On branch master\n",
      "# Changes to be committed:\n",
      "#   (use \"git reset HEAD <file>...\" to unstage)\n",
      "#\n",
      "#\tnew file:   help2\n",
      "#\n",
      "# Changes not staged for commit:\n",
      "#   (use \"git add <file>...\" to update what will be committed)\n",
      "#   (use \"git checkout -- <file>...\" to discard changes in working directory)\n",
      "#\n",
      "#\tmodified:   help2\n",
      "#\n",
      "root@kali:~/git/testing# "
     ],
     "language": "python",
     "metadata": {},
     "outputs": []
    },
    {
     "cell_type": "markdown",
     "metadata": {},
     "source": [
      "\u0422\u0430\u043a, \u043a\u0430\u0436\u0434\u044b\u0439 \u0440\u0430\u0437 \u0437\u0430\u043f\u0440\u0430\u0448\u0438\u0432\u0430\u044f \u0441\u0442\u0430\u0442\u0443\u0441, \u043c\u043e\u0436\u043d\u043e \u043f\u043e\u043d\u044f\u0442\u044c, \u043a\u0430\u043a \u0440\u0435\u0430\u043b\u0438\u0437\u043e\u0432\u0430\u043d\u0430 \u0433\u043b\u0430\u0432\u043d\u0430\u044f \u0438\u0434\u0435\u044f \u0445\u0440\u0430\u043d\u0438\u043b\u0438\u0449. \u041d\u0430 \u043b\u043e\u043a\u0430\u043b\u044c\u043d\u043e\u043c \u043a\u043e\u043c\u043f\u044c\u044e\u0442\u0435\u0440\u0435 \u043c\u043e\u0436\u0435\u0442 \u0431\u044b\u0442\u044c \u043d\u0435\u0441\u043a\u043e\u043b\u044c\u043a\u043e \u044e\u0437\u0435\u0440\u043e\u0432, \u043f\u043e\u0442\u043e\u043c\u0443 \u0432 \u043b\u043e\u043a\u0430\u043b\u044c\u043d\u043e\u043c \u0445\u0440\u0430\u043d\u0438\u043b\u0438\u0449\u0435 \u0445\u0440\u0430\u043d\u044f\u0442\u0441\u044f \u043f\u0440\u0435\u0434\u044b\u0434\u0443\u0449\u0438\u0435 \u0432\u0435\u0440\u0441\u0438\u0438, \u043a\u0430\u0436\u0434\u044b\u0439 \u043d\u043e\u0432\u044b\u0439 \u0432\u0430\u0440\u0438\u0430\u043d\u0442 \u043c\u043e\u0436\u043d\u043e \u043b\u0438\u0431\u043e \u043f\u0440\u0438\u043d\u044f\u0442\u044c (add), \u043b\u0438\u0431\u043e \"\u043e\u0442\u043a\u0430\u0442\u0438\u0442\u044c\" \u0444\u0430\u0439\u043b \u043a \u0441\u0442\u0430\u0440\u043e\u043c\u0443 \u0432\u0430\u0440\u0438\u0430\u043d\u0442\u0443 (checkout)"
     ]
    },
    {
     "cell_type": "heading",
     "level": 4,
     "metadata": {},
     "source": [
      "\u0410 \u0432\u043e\u0442 \u0432\u0442\u043e\u0440\u043e\u0435 \u0432\u0438\u0434\u0435\u043e, \u0432\u043d\u0438\u0437\u0443 \u043a\u0440\u0430\u0442\u043a\u043e\u0435 \u0441\u043e\u0434\u0435\u0440\u0436\u0430\u043d\u0438\u0435 "
     ]
    },
    {
     "cell_type": "markdown",
     "metadata": {},
     "source": [
      "Today we go over your repositories history using the following commands:\n",
      "\n",
      "git log<br/>\n",
      "git reflog<br/>\n",
      "git show<br/>\n",
      "gitk<br/>\n",
      "git checkout filename<br/>\n",
      "git reset<br/>\n",
      "\n",
      "Learn how to check your history and revert backwards!\n",
      "At the end of this video I wanted to mention once again that branching is a more efficient want to tackle any crazy \"experiments\" you'd like to do with your project. There are also other great reasons to branch your project, and I'm pretty excited to make this video hopefully very soon because I know it can be an intimidating subject. Have a great one everybody.\n",
      "\n",
      "Like colors? Try: git config color.ui true"
     ]
    },
    {
     "cell_type": "markdown",
     "metadata": {},
     "source": [
      "<iframe width=\"560\" height=\"315\" src=\"//www.youtube.com/embed/Y7qPI9Nx3nc\" frameborder=\"0\" allowfullscreen></iframe>"
     ]
    },
    {
     "cell_type": "markdown",
     "metadata": {},
     "source": [
      "\u041f\u0435\u0440\u0435\u0434 \u043f\u0440\u043e\u0441\u043c\u043e\u0442\u0440\u043e\u043c \u0437\u0430\u043f\u0440\u0430\u0448\u0438\u0432\u0430\u0435\u043c \u0441\u0442\u0430\u0442\u0443\u0441 \u043d\u0430\u0448\u0435\u0433\u043e \u043b\u043e\u043a\u0430\u043b\u044c\u043d\u043e\u0433\u043e \u0440\u0435\u043f\u043e\u0437\u0438\u0442\u043e\u0440\u0438\u044f \u0438 \u043e\u043a\u0430\u0437\u044b\u0432\u0430\u0435\u0442\u0441\u044f, \u0447\u0442\u043e \u0442\u0430\u043c \u0435\u0441\u0442\u044c \u043d\u043e\u0432\u0430\u044f \u0440\u0435\u0434\u0430\u043a\u0446\u0438\u044f \u0444\u0430\u0439\u043b\u0430:"
     ]
    },
    {
     "cell_type": "code",
     "collapsed": false,
     "input": [
      "root@kali:~/git/testing# git status\n",
      "# On branch master\n",
      "# Changes not staged for commit:\n",
      "#   (use \"git add <file>...\" to update what will be committed)\n",
      "#   (use \"git checkout -- <file>...\" to discard changes in working directory)\n",
      "#\n",
      "#\tmodified:   github_2.ipynb\n",
      "#\n",
      "no changes added to commit (use \"git add\" and/or \"git commit -a\")\n",
      "root@kali:~/git/testing# \n"
     ],
     "language": "python",
     "metadata": {},
     "outputs": []
    },
    {
     "cell_type": "code",
     "collapsed": false,
     "input": [
      "# \u041f\u0440\u043e\u0431\u0443\u0435\u043c \u043a\u043e\u043c\u0430\u043d\u0434\u0443 \u043e\u0442\u043c\u0435\u043d\u044b \u0438\u0437\u043c\u0435\u043d\u0435\u043d\u0438\u0439\n",
      "\n",
      "root@kali:~/git/testing# git checkout -- github_2.ipynb\n",
      "root@kali:~/git/testing# git status\n",
      "# On branch master\n",
      "nothing to commit (working directory clean)\n",
      "root@kali:~/git/testing# "
     ],
     "language": "python",
     "metadata": {},
     "outputs": []
    },
    {
     "cell_type": "markdown",
     "metadata": {},
     "source": [
      "\u041e\u0442\u043c\u0435\u043d\u0438\u043b\u0438 \u0438\u0437\u043c\u0435\u043d\u0435\u043d\u0438\u044f, \u0442\u0435\u043f\u0435\u0440\u044c \u043c\u043e\u0436\u043d\u043e \u043f\u0440\u0438\u0441\u0442\u0443\u043f\u0438\u0442\u044c \u043a \u0438\u0437\u0443\u0447\u0435\u043d\u0438\u044e \u0432\u0438\u0434\u0435\u043e\u0440\u043e\u043b\u0438\u043a\u0430. \u0417\u0434\u0435\u0441\u044c \u0440\u0435\u0447\u044c \u043e \"commit\", \u044d\u0442\u043e \"\u0442\u043e\u0447\u043a\u0438 \u0432\u043e\u0441\u0441\u0442\u0430\u043d\u043e\u0432\u043b\u0435\u043d\u0438\u044f ?\", \u0441\u043e\u0437\u0434\u0430\u044e\u0442\u0441\u044f \u043f\u0440\u0438 \u043f\u043e\u043c\u043e\u0449\u0438 \u0441\u043f\u0435\u0446\u0438\u0430\u043b\u044c\u043d\u043e\u0439 \u043a\u043e\u043c\u0430\u043d\u0434\u044b. \u0418 \u043b\u043e\u0433\u0438\u0440\u0443\u044e\u0442\u0441\u044f \u0432 \u0445\u0440\u043e\u043d\u043e\u043b\u043e\u0438\u0447\u0435\u0441\u043a\u043e\u043c \u043f\u043e\u0440\u044f\u0434\u043a\u0435... \u0417\u0434\u0435\u0441\u044c \u0432\u0438\u0434\u043d\u043e, \u0431\u044b\u043b \u0438\u0437\u043c\u0435\u043d\u0435\u043d \u0435\u0449\u0435 \u0438 e-mail (\u0441\u043c. \u0432\u044b\u0448\u0435): "
     ]
    },
    {
     "cell_type": "code",
     "collapsed": false,
     "input": [
      "root@kali:~/git/testing# git log\n",
      "commit 94eefc65cd7d1f719fda631794780bc370fce0a6\n",
      "Author: root <c131mai@gmail.com>\n",
      "Date:   Tue Mar 18 23:14:12 2014 +0400\n",
      "\n",
      "    added help2 during video\n",
      "\n",
      "commit bb6ef33a3a1673f8ce98e3354eb67bff48255ba9\n",
      "Author: root <c131mai@gmail.com>\n",
      "Date:   Tue Mar 18 17:56:16 2014 +0400\n",
      "\n",
      "    ipynb___2\n",
      "\n",
      "commit 727d1db223ae8961dfd6e6d21b3046ed85a218d4\n",
      "Author: root <root@localhost.localdomain>\n",
      "Date:   Tue Mar 18 15:37:51 2014 +0400\n",
      "\n",
      "    Initial Commi_1t\n",
      "root@kali:~/git/testing# \n"
     ],
     "language": "python",
     "metadata": {},
     "outputs": []
    },
    {
     "cell_type": "code",
     "collapsed": false,
     "input": [
      "# \u041f\u0440\u0438 \u0431\u043e\u043b\u044c\u0448\u043e\u043c \u043a\u043e\u043b\u0438\u0447\u0435\u0441\u0442\u0432\u0435 \u0443\u0447\u0430\u0441\u0442\u043d\u0438\u043a\u043e\u0432/\u0438\u0441\u043f\u0440\u0430\u0432\u043b\u0435\u043d\u0438\u0439 \u043b\u0443\u0447\u0448\u0435 \u0438\u0441\u043f\u043e\u043b\u044c\u0437\u043e\u0432\u0430\u0442\u044c reflog\n",
      "root@kali:~/git/testing# git reflog\n",
      "94eefc6 HEAD@{0}: commit: added help2 during video\n",
      "bb6ef33 HEAD@{1}: commit: ipynb___2\n",
      "727d1db HEAD@{2}: commit (initial): Initial Commi_1t\n",
      "root@kali:~/git/testing# "
     ],
     "language": "python",
     "metadata": {},
     "outputs": []
    },
    {
     "cell_type": "markdown",
     "metadata": {},
     "source": [
      "\u041c\u043e\u0436\u043d\u043e \u043f\u043e\u043a\u0430\u0437\u0430\u0442\u044c \u043f\u043e\u0434\u0440\u043e\u0431\u043d\u043e\u0441\u0442\u0438 \u0442\u0435\u043a\u0443\u0449\u0435\u0433\u043e \u0441\u043e\u0441\u0442\u043e\u044f\u043d\u0438\u044f \u0438 \u043f\u043e\u0441\u043b\u0435\u0434\u043d\u0435\u0433\u043e \u0438\u0437\u043c\u0435\u043d\u0435\u043d\u0438\u044f:"
     ]
    },
    {
     "cell_type": "code",
     "collapsed": false,
     "input": [
      "root@kali:~/git/testing# git show\n",
      "commit 94eefc65cd7d1f719fda631794780bc370fce0a6\n",
      "Author: root <c131mai@gmail.com>\n",
      "Date:   Tue Mar 18 23:14:12 2014 +0400\n",
      "\n",
      "    added help2 during video\n",
      "\n",
      "diff --git a/help2 b/help2\n",
      "new file mode 100644\n",
      "index 0000000..274c005\n",
      "--- /dev/null\n",
      "+++ b/help2\n",
      "@@ -0,0 +1 @@\n",
      "+1234\n",
      "\\ No newline at end of file\n",
      "# ..................\n",
      "# Use useful option -h\n",
      "root@kali:~/git/testing# git show -h\n",
      "usage: git log [<options>] [<since>..<until>] [[--] <path>...]\n",
      "   or: git show [options] <object>...\n",
      "\n",
      "    --quiet               suppress diff output\n",
      "    --source              show source\n",
      "    --decorate[=...]      decorate options\n",
      "\n",
      "root@kali:~/git/testing# "
     ],
     "language": "python",
     "metadata": {},
     "outputs": []
    },
    {
     "cell_type": "code",
     "collapsed": false,
     "input": [
      "#\u041d\u0430 3:50 \u0441\u0435\u043a\u0443\u043d\u0434\u0435 \u0432\u0438\u0434\u0435\u043e \u044f \u043d\u0430\u0443\u0447\u0438\u043b\u0441\u044f \u0440\u0430\u0441\u043a\u0440\u0430\u0448\u0438\u0432\u0430\u0442\u044c \u0432\u044b\u0432\u043e\u0434 \u0441\u0442\u0440\u043e\u043a \u0432 \u043a\u043e\u043d\u0441\u043e\u043b\u0438\n",
      "root@kali:~/git/testing# git config color.ui true"
     ],
     "language": "python",
     "metadata": {},
     "outputs": []
    },
    {
     "cell_type": "code",
     "collapsed": false,
     "input": [
      "# \u0410 \u043d\u0430 4:40 \u043d\u0430\u0448\u0435\u043b (\u0438 \u0443\u0441\u0442\u0430\u043d\u043e\u0432\u0438\u043b) \u0447\u0435\u0440\u0435\u0437 \u0437\u0430\u0433\u0440\u0443\u0437\u0447\u0438\u043a, \u0430 \u043f\u043e\u0442\u043e\u043c \u0437\u0430\u043f\u0443\u0441\u0442\u0438\u043b\n",
      "root@kali:~# cd home/git/testing\n",
      "bash: cd: home/git/testing: No such file or directory\n",
      "root@kali:~# cd git/testing\n",
      "root@kali:~/git/testing# gitk"
     ],
     "language": "python",
     "metadata": {},
     "outputs": []
    },
    {
     "cell_type": "markdown",
     "metadata": {},
     "source": [
      "\u0422\u0435\u043f\u0435\u0440\u044c \u043c\u043e\u0436\u043d\u043e \u0441\u043c\u0435\u043b\u043e \u043f\u0435\u0440\u0435\u0445\u043e\u0434\u0438\u0442\u044c \u043a commit. \u041d\u0430 6:40 \u0441\u0435\u043a\u0443\u043d\u0434\u0435 \u0430\u0432\u0442\u043e\u0440 \u0432\u043d\u0435\u0441 \u0438\u0437\u043c\u0435\u043d\u0435\u043d\u0438\u044f \u0432 \u0444\u0430\u0439\u043b, \u043f\u043e\u0442\u043e\u043c \u043d\u0435 \u0434\u043e\u0431\u0430\u0432\u0438\u043b \u044d\u0442\u0438 \u0438\u0437\u043c\u0435\u043d\u0435\u043d\u0438\u044f (add)... \u0438 \u043d\u0430\u0447\u0430\u043b \u044d\u043a\u0441\u043f\u0435\u0440\u0438\u043c\u0435\u043d\u0442\u0438\u0440\u043e\u0432\u0430\u0442\u044c \u0441 commit... \u042f \u0442\u043e\u0436\u0435 \u0434\u043e\u0431\u0430\u0432\u0438\u043b \u0441\u0442\u0440\u043e\u0447\u043a\u0443 \u0432 \u0441\u0432\u043e\u0439 \u0444\u0430\u0439\u043b help2 \u0438 \u043f\u043e\u043b\u0443\u0447\u0438\u043b \u0442\u043e\u0442 \u0436\u0435 \u043e\u0442\u0432\u0435\u0442 \u043d\u0430 \u0437\u0430\u043f\u0440\u043e\u0441 \u043e \u0441\u0442\u0430\u0442\u0443\u0441\u0435:"
     ]
    },
    {
     "cell_type": "code",
     "collapsed": false,
     "input": [
      "root@kali:~/git/testing# leafpad help2\n",
      "root@kali:~/git/testing# git status\n",
      "# On branch master\n",
      "# Changes not staged for commit:\n",
      "#   (use \"git add <file>...\" to update what will be committed)\n",
      "#   (use \"git checkout -- <file>...\" to discard changes in working directory)\n",
      "#\n",
      "#\tmodified:   help2\n",
      "#\n",
      "no changes added to commit (use \"git add\" and/or \"git commit -a\")"
     ],
     "language": "python",
     "metadata": {},
     "outputs": []
    },
    {
     "cell_type": "code",
     "collapsed": false,
     "input": [
      "# \u041d\u043e \u0441\u043d\u0430\u0447\u0430\u043b\u0430 \u0440\u0430\u0441\u043f\u0435\u0447\u0430\u0442\u0430\u0435\u043c \u043a\u0440\u0430\u0442\u043a\u0443\u044e \u0441\u043f\u0440\u0430\u0432\u043a\u0443 \u043f\u043e commit\n",
      "root@kali:~/git/testing# git commit -h\n",
      "usage: git commit [options] [--] <filepattern>...\n",
      "\n",
      "    -q, --quiet           suppress summary after successful commit\n",
      "    -v, --verbose         show diff in commit message template\n",
      "\n",
      "Commit message options\n",
      "    -F, --file <file>     read message from file\n",
      "    --author <author>     override author for commit\n",
      "    --date <date>         override date for commit\n",
      "    -m, --message <message>\n",
      "                          commit message\n",
      "    -c, --reedit-message <commit>\n",
      "                          reuse and edit message from specified commit\n",
      "    -C, --reuse-message <commit>\n",
      "                          reuse message from specified commit\n",
      "    --fixup <commit>      use autosquash formatted message to fixup specified commit\n",
      "    --squash <commit>     use autosquash formatted message to squash specified commit\n",
      "    --reset-author        the commit is authored by me now (used with -C/-c/--amend)\n",
      "    -s, --signoff         add Signed-off-by:\n",
      "    -t, --template <file>\n",
      "                          use specified template file\n",
      "    -e, --edit            force edit of commit\n",
      "    --cleanup <default>   how to strip spaces and #comments from message\n",
      "    --status              include status in commit message template\n",
      "    -S, --gpg-sign[=<key id>]\n",
      "                          GPG sign commit\n",
      "\n",
      "Commit contents options\n",
      "    -a, --all             commit all changed files\n",
      "    -i, --include         add specified files to index for commit\n",
      "    --interactive         interactively add files\n",
      "    -p, --patch           interactively add changes\n",
      "    -o, --only            commit only specified files\n",
      "    -n, --no-verify       bypass pre-commit hook\n",
      "    --dry-run             show what would be committed\n",
      "    --short               show status concisely\n",
      "    --branch              show branch information\n",
      "    --porcelain           machine-readable output\n",
      "    -z, --null            terminate entries with NUL\n",
      "    --amend               amend previous commit\n",
      "    --no-post-rewrite     bypass post-rewrite hook\n",
      "    -u, --untracked-files[=<mode>]\n",
      "                          show untracked files, optional modes: all, normal, no. (Default: all)\n",
      "\n",
      "root@kali:~/git/testing# "
     ],
     "language": "python",
     "metadata": {},
     "outputs": []
    },
    {
     "cell_type": "markdown",
     "metadata": {},
     "source": [
      "\u041f\u043e\u0432\u0442\u043e\u0440\u0438\u043b\u0438 \u0432\u0441\u043b\u0435\u0434 \u0437\u0430 \u0440\u043e\u043b\u0438\u043a\u043e\u043c (7:00) commit, \u0430 \u043f\u043e\u0442\u043e\u043c git push ...\u0418 \u043e\u043f\u044f\u0442\u044c \u0443 \u043c\u0435\u043d\u044f \u043e\u0448\u0438\u0431\u043a\u0430, \u043f\u043e\u0436\u0430\u043b\u0443\u0439 \u043d\u0430\u0434\u043e \u0435\u0439 \u0437\u0430\u043d\u044f\u0442\u044c\u0441\u044f \u043e\u0442\u0434\u0435\u043b\u044c\u043d\u043e"
     ]
    },
    {
     "cell_type": "code",
     "collapsed": false,
     "input": [
      "root@kali:~/git/testing# git commit -am \"code that does not work\"\n",
      "[master 0035e42] code that does not work\n",
      " 1 file changed, 2 insertions(+), 1 deletion(-)\n",
      "root@kali:~/git/testing# git push\n",
      "Username for 'https://github.com': apython\n",
      "Password for 'https://apython@github.com': \n",
      "To https://github.com/apython/forblog.git\n",
      " ! [rejected]        master -> master (non-fast-forward)\n",
      "error: failed to push some refs to 'https://github.com/apython/forblog.git'\n",
      "hint: Updates were rejected because the tip of your current branch is behind\n",
      "hint: its remote counterpart. Merge the remote changes (e.g. 'git pull')\n",
      "hint: before pushing again.\n",
      "hint: See the 'Note about fast-forwards' in 'git push --help' for details.\n",
      "root@kali:~/git/testing# \n"
     ],
     "language": "python",
     "metadata": {},
     "outputs": []
    },
    {
     "cell_type": "markdown",
     "metadata": {},
     "source": [
      "\u043d\u0430\u0434\u043e \u0431\u044b \u0440\u0430\u0441\u043f\u0435\u0447\u0430\u0442\u0430\u0442\u044c \u0441\u043f\u0440\u0430\u0432\u043a\u0443... \u0422\u0430\u043c \u0441\u043b\u0438\u0448\u043a\u043e\u043c \u043c\u043d\u043e\u0433\u043e \u0442\u0435\u043a\u0441\u0442\u0430, \u043f\u043e\u0442\u043e\u043c\u0443 \u0432\u044b\u0432\u0432\u0435\u0434\u0435\u043c \u0432\u0441\u0435 \u0432 \u0444\u0430\u0439\u043b help (\u043e\u043d \u0443 \u043d\u0430\u0441 \u043f\u0443\u0441\u0442\u0443\u0435\u0442), \u043e\u0442\u043a\u0440\u043e\u0435\u043c \u0435\u0433\u043e \u0432 \u0440\u0435\u0434\u0430\u043a\u0442\u043e\u0440\u0435:"
     ]
    },
    {
     "cell_type": "code",
     "collapsed": false,
     "input": [
      "root@kali:~/git/testing# git push --help > help\n",
      "root@kali:~/git/testing# leafpad help"
     ],
     "language": "python",
     "metadata": {},
     "outputs": []
    },
    {
     "cell_type": "markdown",
     "metadata": {},
     "source": [
      "\u0410 \u0442\u0435\u043f\u0435\u0440\u044c \u043f\u0440\u043e\u0441\u0442\u043e \u0441\u043a\u043e\u043f\u0438\u0440\u0443\u0435\u043c \u0441\u044e\u0434\u0430 \u0444\u0440\u0430\u0433\u043c\u0435\u043d\u0442 \u0442\u0435\u043a\u0441\u0442\u0430 'Note about fast-forwards' (\u043d\u0430\u0434\u043e \u0431\u044b \u044d\u0442\u043e \u0441\u0434\u0435\u043b\u0430\u0442\u044c \u0432 \u043a\u043e\u043d\u0441\u043e\u043b\u0438, \u043d\u043e \u043d\u0435 \u0445\u043e\u0447\u0443 \u043e\u0442\u0432\u043b\u0435\u043a\u0430\u0442\u0441\u044f...)"
     ]
    },
    {
     "cell_type": "code",
     "collapsed": false,
     "input": [
      "NOTE ABOUT FAST-FORWARDS\n",
      "       When an update changes a branch (or more in general, a ref) that used\n",
      "       to point at commit A to point at another commit B, it is called a\n",
      "       fast-forward update if and only if B is a descendant of A.\n",
      "\n",
      "       In a fast-forward update from A to B, the set of commits that the\n",
      "       original commit A built on top of is a subset of the commits the new\n",
      "       commit B builds on top of. Hence, it does not lose any history.\n",
      "\n",
      "       In contrast, a non-fast-forward update will lose history. For example,\n",
      "       suppose you and somebody else started at the same commit X, and you\n",
      "       built a history leading to commit B while the other person built a\n",
      "       history leading to commit A. The history looks like this:\n",
      "\n",
      "                 B\n",
      "                /\n",
      "            ---X---A\n",
      "\n",
      "\n",
      "       Further suppose that the other person already pushed changes leading to\n",
      "       A back to the original repository you two obtained the original commit\n",
      "       X.\n",
      "\n",
      "       The push done by the other person updated the branch that used to point\n",
      "       at commit X to point at commit A. It is a fast-forward.\n",
      "\n",
      "       But if you try to push, you will attempt to update the branch (that now\n",
      "       points at A) with commit B. This does not fast-forward. If you did so,\n",
      "       the changes introduced by commit A will be lost, because everybody will\n",
      "       now start building on top of B.\n",
      "\n",
      "       The command by default does not allow an update that is not a\n",
      "       fast-forward to prevent such loss of history.\n",
      "\n",
      "       If you do not want to lose your work (history from X to B) nor the work\n",
      "       by the other person (history from X to A), you would need to first\n",
      "       fetch the history from the repository, create a history that contains\n",
      "       changes done by both parties, and push the result back.\n",
      "\n",
      "       You can perform \"git pull\", resolve potential conflicts, and \"git push\"\n",
      "       the result. A \"git pull\" will create a merge commit C between commits A\n",
      "       and B.\n",
      "\n",
      "                 B---C\n",
      "                /   /\n",
      "            ---X---A\n",
      "\n",
      "\n",
      "       Updating A with the resulting merge commit will fast-forward and your\n",
      "       push will be accepted.\n",
      "\n",
      "       Alternatively, you can rebase your change between X and B on top of A,\n",
      "       with \"git pull --rebase\", and push the result back. The rebase will\n",
      "       create a new commit D that builds the change between X and B on top of\n",
      "       A.\n",
      "\n",
      "                 B   D\n",
      "                /   /\n",
      "            ---X---A\n",
      "\n",
      "\n",
      "       Again, updating A with this commit will fast-forward and your push will\n",
      "       be accepted.\n",
      "\n",
      "       There is another common situation where you may encounter\n",
      "       non-fast-forward rejection when you try to push, and it is possible\n",
      "       even when you are pushing into a repository nobody else pushes into.\n",
      "       After you push commit A yourself (in the first picture in this\n",
      "       section), replace it with \"git commit --amend\" to produce commit B, and\n",
      "       you try to push it out, because forgot that you have pushed A out\n",
      "       already. In such a case, and only if you are certain that nobody in the\n",
      "       meantime fetched your earlier commit A (and started building on top of\n",
      "       it), you can run \"git push --force\" to overwrite it. In other words,\n",
      "       \"git push --force\" is a method reserved for a case where you do mean to\n",
      "       lose history.\n",
      "\n",
      "EXAMPLES\n",
      "       git push\n",
      "           Works like git push <remote>, where <remote> is the current\n",
      "           branch\u2019s remote (or origin, if no remote is configured for the\n",
      "           current branch).\n",
      "\n",
      "       git push origin\n",
      "           Without additional configuration, works like git push origin :.\n",
      "\n",
      "           The default behavior of this command when no <refspec> is given can\n",
      "           be configured by setting the push option of the remote.\n",
      "\n",
      "           For example, to default to pushing only the current branch to\n",
      "           origin use git config remote.origin.push HEAD. Any valid <refspec>\n",
      "           (like the ones in the examples below) can be configured as the\n",
      "           default for git push origin.\n",
      "\n",
      "       git push origin :\n",
      "           Push \"matching\" branches to origin. See <refspec> in the OPTIONS\n",
      "           section above for a description of \"matching\" branches.\n",
      "\n",
      "       git push origin master\n",
      "           Find a ref that matches master in the source repository (most\n",
      "           likely, it would find refs/heads/master), and update the same ref\n",
      "           (e.g.  refs/heads/master) in origin repository with it. If master\n",
      "           did not exist remotely, it would be created.\n",
      "\n",
      "       git push origin HEAD\n",
      "           A handy way to push the current branch to the same name on the\n",
      "           remote.\n",
      "\n",
      "       git push origin master:satellite/master dev:satellite/dev\n",
      "           Use the source ref that matches master (e.g.  refs/heads/master) to\n",
      "           update the ref that matches satellite/master (most probably\n",
      "           refs/remotes/satellite/master) in the origin repository, then do\n",
      "           the same for dev and satellite/dev.\n",
      "\n",
      "       git push origin HEAD:master\n",
      "           Push the current branch to the remote ref matching master in the\n",
      "           origin repository. This form is convenient to push the current\n",
      "           branch without thinking about its local name.\n",
      "\n",
      "       git push origin master:refs/heads/experimental\n",
      "           Create the branch experimental in the origin repository by copying\n",
      "           the current master branch. This form is only needed to create a new\n",
      "           branch or tag in the remote repository when the local name and the\n",
      "           remote name are different; otherwise, the ref name on its own will\n",
      "           work.\n",
      "\n",
      "       git push origin :experimental\n",
      "           Find a ref that matches experimental in the origin repository (e.g.\n",
      "           refs/heads/experimental), and delete it.\n",
      "\n",
      "       git push origin +dev:master\n",
      "           Update the origin repository\u2019s master branch with the dev branch,\n",
      "           allowing non-fast-forward updates.  This can leave unreferenced\n",
      "           commits dangling in the origin repository.  Consider the following\n",
      "           situation, where a fast-forward is not possible:\n",
      "\n",
      "                           o---o---o---A---B  origin/master\n",
      "                                    \\\n",
      "                                     X---Y---Z  dev\n",
      "\n",
      "           The above command would change the origin repository to\n",
      "\n",
      "                                     A---B  (unnamed branch)\n",
      "                                    /\n",
      "                           o---o---o---X---Y---Z  master\n",
      "\n",
      "           Commits A and B would no longer belong to a branch with a symbolic\n",
      "           name, and so would be unreachable. As such, these commits would be\n",
      "           removed by a git gc command on the origin repository.\n",
      "\n",
      "GIT\n",
      "       Part of the git(1) suite\n",
      "\n",
      "\n",
      "\n",
      "Git 1.7.10.4                      11/24/2012                       GIT-PUSH(1)\n"
     ],
     "language": "python",
     "metadata": {},
     "outputs": []
    },
    {
     "cell_type": "markdown",
     "metadata": {},
     "source": [
      "\u0418 \u0432\u0441\u0435 \u044d\u0442\u043e \u043d\u0435 \u043f\u043e\u043c\u043e\u0433\u0430\u0435\u0442, \u043e\u0442 \u043e\u0442\u0447\u0430\u044f\u043d\u0438\u044f \u0440\u0430\u0441\u043f\u0435\u0447\u0430\u0442\u0430\u0435\u043c \u0435\u0449\u0435 \u043e\u0434\u043d\u0443 \u0441\u043f\u0440\u0430\u0432\u043a\u0443:"
     ]
    },
    {
     "cell_type": "code",
     "collapsed": false,
     "input": [
      "root@kali:~/git/testing#  git branch -h\n",
      "usage: git branch [options] [-r | -a] [--merged | --no-merged]\n",
      "   or: git branch [options] [-l] [-f] <branchname> [<start-point>]\n",
      "   or: git branch [options] [-r] (-d | -D) <branchname>...\n",
      "   or: git branch [options] (-m | -M) [<oldbranch>] <newbranch>\n",
      "\n",
      "Generic options\n",
      "    -v, --verbose         show hash and subject, give twice for upstream branch\n",
      "    -t, --track           set up tracking mode (see git-pull(1))\n",
      "    --set-upstream        change upstream info\n",
      "    --color[=<when>]      use colored output\n",
      "    -r, --remotes         act on remote-tracking branches\n",
      "    --contains <commit>   print only branches that contain the commit\n",
      "    --abbrev[=<n>]        use <n> digits to display SHA-1s\n",
      "\n",
      "Specific git-branch actions:\n",
      "    -a, --all             list both remote-tracking and local branches\n",
      "    -d, --delete          delete fully merged branch\n",
      "    -D                    delete branch (even if not merged)\n",
      "    -m, --move            move/rename a branch and its reflog\n",
      "    -M                    move/rename a branch, even if target exists\n",
      "    --list                list branch names\n",
      "    -l, --create-reflog   create the branch's reflog\n",
      "    --edit-description    edit the description for the branch\n",
      "    -f, --force           force creation (when already exists)\n",
      "    --no-merged <commit>  print only not merged branches\n",
      "    --merged <commit>     print only merged branches\n",
      "\n",
      "root@kali:~/git/testing# "
     ],
     "language": "python",
     "metadata": {},
     "outputs": []
    },
    {
     "cell_type": "markdown",
     "metadata": {},
     "source": [
      "\u0418 \u0432\u043e\u0442, \u043d\u0430\u043a\u043e\u043d\u0435\u0446... \u044f \u0440\u0435\u0448\u0438\u043b \u0434\u043e\u0441\u043c\u043e\u0442\u0440\u0435\u0442\u044c \u0440\u043e\u043b\u0438\u043a \u0438 \u043d\u0430 9:40 \u0441\u0435\u043a\u0443\u043d\u0434\u0435 \u0430\u0432\u0442\u043e\u0440 \u0438\u0433\u0440\u0430\u044e\u0447\u0438 \u0432\u0441\u0435 \u0440\u0435\u0448\u0438\u043b:"
     ]
    },
    {
     "cell_type": "code",
     "collapsed": false,
     "input": [
      "root@kali:~/git/testing# git push -f\n",
      "Username for 'https://github.com': apython\n",
      "Password for 'https://apython@github.com': \n",
      "Counting objects: 15, done.\n",
      "Delta compression using up to 2 threads.\n",
      "Compressing objects: 100% (11/11), done.\n",
      "Writing objects: 100% (13/13), 14.87 KiB, done.\n",
      "Total 13 (delta 3), reused 0 (delta 0)\n",
      "To https://github.com/apython/forblog.git\n",
      " + bb135e8...a1de9d6 master -> master (forced update)\n",
      "root@kali:~/git/testing# "
     ],
     "language": "python",
     "metadata": {},
     "outputs": []
    },
    {
     "cell_type": "markdown",
     "metadata": {},
     "source": [
      "\u041d\u043e \u0444\u0430\u0439\u043b readme \u0438\u0437 GitHub \u043d\u0430 \u0441\u0435\u0440\u0432\u0435\u0440\u0435 \u0438\u0441\u0447\u0435\u0437... \u0422\u0430\u043a \u0447\u0442\u043e, \u044d\u0442\u043e \u043d\u0435 \u043b\u0443\u0447\u0448\u0438\u0439 \u0432\u0430\u0440\u0438\u0430\u043d\u0442... \u041d\u043e \u0443 \u0442\u043e\u0433\u043e \u0436\u0435 \u0430\u0432\u0442\u043e\u0440\u0430, \u043e\u043a\u0430\u0437\u044b\u0432\u0430\u0435\u0442\u0441\u044f \u043d\u0435 \u0434\u0432\u0430 \u0430 \u043d\u0435\u0441\u043a\u043e\u043b\u044c\u043a\u043e \u0432\u0438\u0434\u0435\u043e \u043d\u0430 \u044d\u0442\u0443 \u0442\u0435\u043c\u0443. \n",
      "\u0415\u0441\u0442\u044c \u0446\u0435\u043b\u044b\u0445 \u0434\u0432\u0430 \u043d\u0430 \u0442\u0435\u043c\u0443 \u043a\u043e\u043d\u0444\u043b\u0438\u043a\u0442\u043e\u0432 (4 \u0438 5), \u0430 \u0434\u043e \u044d\u0442\u043e\u0433\u043e - \u043a\u0430\u043a \u0441\u043e\u0437\u0434\u0430\u0442\u044c \u043d\u043e\u0432\u043e\u0433\u043e \u044e\u0437\u0435\u0440\u0430... \u0421\u043b\u043e\u0432\u043e\u043c, \u0432\u043e\u0442 \u044d\u0442\u043e \u043d\u0430\u0434\u043e \u0431\u0443\u0434\u0435\u0442 \u0441\u043c\u043e\u0442\u0435\u0440\u0442\u044c \u0438 \u0434\u0430\u043b\u044c\u0448\u0435 [Jason Semko](http://www.youtube.com/user/thejacenxpress/videos)"
     ]
    },
    {
     "cell_type": "markdown",
     "metadata": {},
     "source": []
    }
   ],
   "metadata": {}
  }
 ]
}